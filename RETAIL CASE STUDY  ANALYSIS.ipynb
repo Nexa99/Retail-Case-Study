{
 "cells": [
  {
   "cell_type": "code",
   "execution_count": 1,
   "id": "616c1e58-a744-4fa8-8881-0b6a12a421a9",
   "metadata": {},
   "outputs": [],
   "source": [
    "import numpy as np \n",
    "import pandas as pd \n",
    "import os \n",
    "import matplotlib.pyplot as plt \n",
    "%matplotlib inline\n",
    "import seaborn as sns"
   ]
  },
  {
   "cell_type": "code",
   "execution_count": 4,
   "id": "70427b95-f6ab-42e6-9769-63d80ddaa12b",
   "metadata": {},
   "outputs": [],
   "source": [
    "os.chdir('C:\\\\Users\\\\nikit\\\\Desktop\\\\ALABS\\\\PYTHON CASE STUDIES\\\\CASE studies\\\\Case Study 1 - Retail Case Study')"
   ]
  },
  {
   "cell_type": "code",
   "execution_count": 6,
   "id": "9c926c97-3c48-4081-80ab-861be873990a",
   "metadata": {},
   "outputs": [],
   "source": [
    "Customer = pd.read_csv('Customer.csv')\n",
    "Product = pd.read_csv('prod_cat_info.csv')\n",
    "Transaction = pd.read_csv('Transactions.csv')"
   ]
  },
  {
   "cell_type": "markdown",
   "id": "bc7332d0-8fad-4f4d-8ddd-9f79ceabb395",
   "metadata": {},
   "source": [
    "## 1) MERGING DATASETS :"
   ]
  },
  {
   "cell_type": "code",
   "execution_count": 8,
   "id": "f713a552-4a6e-4c7a-8e3a-864fcfe10a21",
   "metadata": {},
   "outputs": [],
   "source": [
    "Trans_Cust= pd.merge(left = Transaction, right = Customer, how= 'left', left_on = 'cust_id' , right_on ='customer_Id' )"
   ]
  },
  {
   "cell_type": "code",
   "execution_count": 10,
   "id": "e40ca468-3436-4f77-832f-c8ea2fc644f7",
   "metadata": {},
   "outputs": [],
   "source": [
    "Customer_Final = pd.merge(left = Trans_Cust  , right = Product, left_on =['prod_cat_code','prod_subcat_code'], right_on = ['prod_cat_code','prod_sub_cat_code'])"
   ]
  },
  {
   "cell_type": "code",
   "execution_count": 12,
   "id": "70c101b3-92a3-4f14-acc2-cf19c44a9341",
   "metadata": {},
   "outputs": [
    {
     "data": {
      "text/html": [
       "<div>\n",
       "<style scoped>\n",
       "    .dataframe tbody tr th:only-of-type {\n",
       "        vertical-align: middle;\n",
       "    }\n",
       "\n",
       "    .dataframe tbody tr th {\n",
       "        vertical-align: top;\n",
       "    }\n",
       "\n",
       "    .dataframe thead th {\n",
       "        text-align: right;\n",
       "    }\n",
       "</style>\n",
       "<table border=\"1\" class=\"dataframe\">\n",
       "  <thead>\n",
       "    <tr style=\"text-align: right;\">\n",
       "      <th></th>\n",
       "      <th>transaction_id</th>\n",
       "      <th>cust_id</th>\n",
       "      <th>tran_date</th>\n",
       "      <th>prod_subcat_code</th>\n",
       "      <th>prod_cat_code</th>\n",
       "      <th>Qty</th>\n",
       "      <th>Rate</th>\n",
       "      <th>Tax</th>\n",
       "      <th>total_amt</th>\n",
       "      <th>Store_type</th>\n",
       "      <th>customer_Id</th>\n",
       "      <th>DOB</th>\n",
       "      <th>Gender</th>\n",
       "      <th>city_code</th>\n",
       "      <th>prod_cat</th>\n",
       "      <th>prod_sub_cat_code</th>\n",
       "      <th>prod_subcat</th>\n",
       "    </tr>\n",
       "  </thead>\n",
       "  <tbody>\n",
       "    <tr>\n",
       "      <th>0</th>\n",
       "      <td>80712190438</td>\n",
       "      <td>270351</td>\n",
       "      <td>28-02-2014</td>\n",
       "      <td>1</td>\n",
       "      <td>1</td>\n",
       "      <td>-5</td>\n",
       "      <td>-772</td>\n",
       "      <td>405.300</td>\n",
       "      <td>-4265.300</td>\n",
       "      <td>e-Shop</td>\n",
       "      <td>270351</td>\n",
       "      <td>26-09-1981</td>\n",
       "      <td>M</td>\n",
       "      <td>5.0</td>\n",
       "      <td>Clothing</td>\n",
       "      <td>1</td>\n",
       "      <td>Women</td>\n",
       "    </tr>\n",
       "    <tr>\n",
       "      <th>1</th>\n",
       "      <td>29258453508</td>\n",
       "      <td>270384</td>\n",
       "      <td>27-02-2014</td>\n",
       "      <td>5</td>\n",
       "      <td>3</td>\n",
       "      <td>-5</td>\n",
       "      <td>-1497</td>\n",
       "      <td>785.925</td>\n",
       "      <td>-8270.925</td>\n",
       "      <td>e-Shop</td>\n",
       "      <td>270384</td>\n",
       "      <td>11-05-1973</td>\n",
       "      <td>F</td>\n",
       "      <td>8.0</td>\n",
       "      <td>Electronics</td>\n",
       "      <td>5</td>\n",
       "      <td>Computers</td>\n",
       "    </tr>\n",
       "    <tr>\n",
       "      <th>2</th>\n",
       "      <td>51750724947</td>\n",
       "      <td>273420</td>\n",
       "      <td>24-02-2014</td>\n",
       "      <td>6</td>\n",
       "      <td>5</td>\n",
       "      <td>-2</td>\n",
       "      <td>-791</td>\n",
       "      <td>166.110</td>\n",
       "      <td>-1748.110</td>\n",
       "      <td>TeleShop</td>\n",
       "      <td>273420</td>\n",
       "      <td>27-07-1992</td>\n",
       "      <td>M</td>\n",
       "      <td>8.0</td>\n",
       "      <td>Books</td>\n",
       "      <td>6</td>\n",
       "      <td>DIY</td>\n",
       "    </tr>\n",
       "    <tr>\n",
       "      <th>3</th>\n",
       "      <td>93274880719</td>\n",
       "      <td>271509</td>\n",
       "      <td>24-02-2014</td>\n",
       "      <td>11</td>\n",
       "      <td>6</td>\n",
       "      <td>-3</td>\n",
       "      <td>-1363</td>\n",
       "      <td>429.345</td>\n",
       "      <td>-4518.345</td>\n",
       "      <td>e-Shop</td>\n",
       "      <td>271509</td>\n",
       "      <td>08-06-1981</td>\n",
       "      <td>M</td>\n",
       "      <td>3.0</td>\n",
       "      <td>Home and kitchen</td>\n",
       "      <td>11</td>\n",
       "      <td>Bath</td>\n",
       "    </tr>\n",
       "    <tr>\n",
       "      <th>4</th>\n",
       "      <td>51750724947</td>\n",
       "      <td>273420</td>\n",
       "      <td>23-02-2014</td>\n",
       "      <td>6</td>\n",
       "      <td>5</td>\n",
       "      <td>-2</td>\n",
       "      <td>-791</td>\n",
       "      <td>166.110</td>\n",
       "      <td>-1748.110</td>\n",
       "      <td>TeleShop</td>\n",
       "      <td>273420</td>\n",
       "      <td>27-07-1992</td>\n",
       "      <td>M</td>\n",
       "      <td>8.0</td>\n",
       "      <td>Books</td>\n",
       "      <td>6</td>\n",
       "      <td>DIY</td>\n",
       "    </tr>\n",
       "    <tr>\n",
       "      <th>...</th>\n",
       "      <td>...</td>\n",
       "      <td>...</td>\n",
       "      <td>...</td>\n",
       "      <td>...</td>\n",
       "      <td>...</td>\n",
       "      <td>...</td>\n",
       "      <td>...</td>\n",
       "      <td>...</td>\n",
       "      <td>...</td>\n",
       "      <td>...</td>\n",
       "      <td>...</td>\n",
       "      <td>...</td>\n",
       "      <td>...</td>\n",
       "      <td>...</td>\n",
       "      <td>...</td>\n",
       "      <td>...</td>\n",
       "      <td>...</td>\n",
       "    </tr>\n",
       "    <tr>\n",
       "      <th>23048</th>\n",
       "      <td>94340757522</td>\n",
       "      <td>274550</td>\n",
       "      <td>25-01-2011</td>\n",
       "      <td>12</td>\n",
       "      <td>5</td>\n",
       "      <td>1</td>\n",
       "      <td>1264</td>\n",
       "      <td>132.720</td>\n",
       "      <td>1396.720</td>\n",
       "      <td>e-Shop</td>\n",
       "      <td>274550</td>\n",
       "      <td>21-02-1972</td>\n",
       "      <td>M</td>\n",
       "      <td>7.0</td>\n",
       "      <td>Books</td>\n",
       "      <td>12</td>\n",
       "      <td>Academic</td>\n",
       "    </tr>\n",
       "    <tr>\n",
       "      <th>23049</th>\n",
       "      <td>89780862956</td>\n",
       "      <td>270022</td>\n",
       "      <td>25-01-2011</td>\n",
       "      <td>4</td>\n",
       "      <td>1</td>\n",
       "      <td>1</td>\n",
       "      <td>677</td>\n",
       "      <td>71.085</td>\n",
       "      <td>748.085</td>\n",
       "      <td>e-Shop</td>\n",
       "      <td>270022</td>\n",
       "      <td>27-04-1984</td>\n",
       "      <td>M</td>\n",
       "      <td>9.0</td>\n",
       "      <td>Clothing</td>\n",
       "      <td>4</td>\n",
       "      <td>Mens</td>\n",
       "    </tr>\n",
       "    <tr>\n",
       "      <th>23050</th>\n",
       "      <td>85115299378</td>\n",
       "      <td>271020</td>\n",
       "      <td>25-01-2011</td>\n",
       "      <td>2</td>\n",
       "      <td>6</td>\n",
       "      <td>4</td>\n",
       "      <td>1052</td>\n",
       "      <td>441.840</td>\n",
       "      <td>4649.840</td>\n",
       "      <td>MBR</td>\n",
       "      <td>271020</td>\n",
       "      <td>20-06-1976</td>\n",
       "      <td>M</td>\n",
       "      <td>8.0</td>\n",
       "      <td>Home and kitchen</td>\n",
       "      <td>2</td>\n",
       "      <td>Furnishing</td>\n",
       "    </tr>\n",
       "    <tr>\n",
       "      <th>23051</th>\n",
       "      <td>72870271171</td>\n",
       "      <td>270911</td>\n",
       "      <td>25-01-2011</td>\n",
       "      <td>11</td>\n",
       "      <td>5</td>\n",
       "      <td>3</td>\n",
       "      <td>1142</td>\n",
       "      <td>359.730</td>\n",
       "      <td>3785.730</td>\n",
       "      <td>TeleShop</td>\n",
       "      <td>270911</td>\n",
       "      <td>22-05-1970</td>\n",
       "      <td>M</td>\n",
       "      <td>2.0</td>\n",
       "      <td>Books</td>\n",
       "      <td>11</td>\n",
       "      <td>Children</td>\n",
       "    </tr>\n",
       "    <tr>\n",
       "      <th>23052</th>\n",
       "      <td>77960931771</td>\n",
       "      <td>271961</td>\n",
       "      <td>25-01-2011</td>\n",
       "      <td>11</td>\n",
       "      <td>5</td>\n",
       "      <td>1</td>\n",
       "      <td>447</td>\n",
       "      <td>46.935</td>\n",
       "      <td>493.935</td>\n",
       "      <td>TeleShop</td>\n",
       "      <td>271961</td>\n",
       "      <td>15-01-1982</td>\n",
       "      <td>M</td>\n",
       "      <td>1.0</td>\n",
       "      <td>Books</td>\n",
       "      <td>11</td>\n",
       "      <td>Children</td>\n",
       "    </tr>\n",
       "  </tbody>\n",
       "</table>\n",
       "<p>23053 rows × 17 columns</p>\n",
       "</div>"
      ],
      "text/plain": [
       "       transaction_id  cust_id   tran_date  prod_subcat_code  prod_cat_code  \\\n",
       "0         80712190438   270351  28-02-2014                 1              1   \n",
       "1         29258453508   270384  27-02-2014                 5              3   \n",
       "2         51750724947   273420  24-02-2014                 6              5   \n",
       "3         93274880719   271509  24-02-2014                11              6   \n",
       "4         51750724947   273420  23-02-2014                 6              5   \n",
       "...               ...      ...         ...               ...            ...   \n",
       "23048     94340757522   274550  25-01-2011                12              5   \n",
       "23049     89780862956   270022  25-01-2011                 4              1   \n",
       "23050     85115299378   271020  25-01-2011                 2              6   \n",
       "23051     72870271171   270911  25-01-2011                11              5   \n",
       "23052     77960931771   271961  25-01-2011                11              5   \n",
       "\n",
       "       Qty  Rate      Tax  total_amt Store_type  customer_Id         DOB  \\\n",
       "0       -5  -772  405.300  -4265.300     e-Shop       270351  26-09-1981   \n",
       "1       -5 -1497  785.925  -8270.925     e-Shop       270384  11-05-1973   \n",
       "2       -2  -791  166.110  -1748.110   TeleShop       273420  27-07-1992   \n",
       "3       -3 -1363  429.345  -4518.345     e-Shop       271509  08-06-1981   \n",
       "4       -2  -791  166.110  -1748.110   TeleShop       273420  27-07-1992   \n",
       "...    ...   ...      ...        ...        ...          ...         ...   \n",
       "23048    1  1264  132.720   1396.720     e-Shop       274550  21-02-1972   \n",
       "23049    1   677   71.085    748.085     e-Shop       270022  27-04-1984   \n",
       "23050    4  1052  441.840   4649.840        MBR       271020  20-06-1976   \n",
       "23051    3  1142  359.730   3785.730   TeleShop       270911  22-05-1970   \n",
       "23052    1   447   46.935    493.935   TeleShop       271961  15-01-1982   \n",
       "\n",
       "      Gender  city_code          prod_cat  prod_sub_cat_code prod_subcat  \n",
       "0          M        5.0          Clothing                  1       Women  \n",
       "1          F        8.0       Electronics                  5   Computers  \n",
       "2          M        8.0             Books                  6         DIY  \n",
       "3          M        3.0  Home and kitchen                 11        Bath  \n",
       "4          M        8.0             Books                  6         DIY  \n",
       "...      ...        ...               ...                ...         ...  \n",
       "23048      M        7.0             Books                 12    Academic  \n",
       "23049      M        9.0          Clothing                  4        Mens  \n",
       "23050      M        8.0  Home and kitchen                  2  Furnishing  \n",
       "23051      M        2.0             Books                 11    Children  \n",
       "23052      M        1.0             Books                 11    Children  \n",
       "\n",
       "[23053 rows x 17 columns]"
      ]
     },
     "execution_count": 12,
     "metadata": {},
     "output_type": "execute_result"
    }
   ],
   "source": [
    "Customer_Final"
   ]
  },
  {
   "cell_type": "code",
   "execution_count": 14,
   "id": "8c7fb4e4-ec18-4cc7-84f9-06f48e2273c7",
   "metadata": {},
   "outputs": [],
   "source": [
    "## dropping dulpicate columns:\n",
    "Customer_Final.drop(labels =['customer_Id','prod_sub_cat_code'],axis =1,inplace = True )"
   ]
  },
  {
   "cell_type": "markdown",
   "id": "e919db9b-3bcb-4aee-83f9-517af213a708",
   "metadata": {},
   "source": [
    "## 2) EDA"
   ]
  },
  {
   "cell_type": "code",
   "execution_count": 16,
   "id": "cd3344eb-ce5f-41a5-a700-036437e63015",
   "metadata": {},
   "outputs": [
    {
     "data": {
      "text/plain": [
       "(23053, 15)"
      ]
     },
     "execution_count": 16,
     "metadata": {},
     "output_type": "execute_result"
    }
   ],
   "source": [
    "Customer_Final.shape"
   ]
  },
  {
   "cell_type": "code",
   "execution_count": 156,
   "id": "dbf697de-b964-4e26-9af9-d44d03c7e302",
   "metadata": {},
   "outputs": [
    {
     "name": "stdout",
     "output_type": "stream",
     "text": [
      "In the current dataset we have a total of 23053 rows and 15 columns.\n"
     ]
    }
   ],
   "source": [
    "print (\"In the current dataset we have a total of\", Customer_Final.shape[0], \"rows and\", Customer_Final.shape[1] ,\"columns.\")"
   ]
  },
  {
   "cell_type": "markdown",
   "id": "5a0221d8-ec62-4efe-9376-caed2aa30d07",
   "metadata": {},
   "source": [
    "### a) The column names and their corresponding data types :\n"
   ]
  },
  {
   "cell_type": "code",
   "execution_count": 158,
   "id": "320d4a1c-5dd1-4ace-98a0-5fa9a40a9cb9",
   "metadata": {},
   "outputs": [
    {
     "name": "stdout",
     "output_type": "stream",
     "text": [
      "<class 'pandas.core.frame.DataFrame'>\n",
      "RangeIndex: 23053 entries, 0 to 23052\n",
      "Data columns (total 15 columns):\n",
      " #   Column            Non-Null Count  Dtype  \n",
      "---  ------            --------------  -----  \n",
      " 0   transaction_id    23053 non-null  int64  \n",
      " 1   cust_id           23053 non-null  int64  \n",
      " 2   tran_date         23053 non-null  object \n",
      " 3   prod_subcat_code  23053 non-null  int64  \n",
      " 4   prod_cat_code     23053 non-null  int64  \n",
      " 5   Qty               23053 non-null  int64  \n",
      " 6   Rate              23053 non-null  int64  \n",
      " 7   Tax               23053 non-null  float64\n",
      " 8   total_amt         23053 non-null  float64\n",
      " 9   Store_type        23053 non-null  object \n",
      " 10  DOB               23053 non-null  object \n",
      " 11  Gender            23044 non-null  object \n",
      " 12  city_code         23045 non-null  float64\n",
      " 13  prod_cat          23053 non-null  object \n",
      " 14  prod_subcat       23053 non-null  object \n",
      "dtypes: float64(3), int64(6), object(6)\n",
      "memory usage: 2.6+ MB\n"
     ]
    }
   ],
   "source": [
    "Customer_Final.info()"
   ]
  },
  {
   "cell_type": "code",
   "execution_count": null,
   "id": "90ea034e-7d78-4956-b403-4e2bafed69d9",
   "metadata": {},
   "outputs": [],
   "source": [
    "#Observations:\n",
    "\n",
    "#In the current data set we have 23053 entires , however  in Gender and city code column there seems to some null values .\n",
    "#The DOB has object dtype instead of datetime.\n",
    "#The Transaction date is having object dtype instead of datetime."
   ]
  },
  {
   "cell_type": "markdown",
   "id": "2e2a56d5-2612-4ae9-8f6f-52ca3511858b",
   "metadata": {},
   "source": [
    "### b)Top/Bottom 10 observations"
   ]
  },
  {
   "cell_type": "code",
   "execution_count": null,
   "id": "8675461a-eae0-41d4-9855-a5679f52661f",
   "metadata": {},
   "outputs": [],
   "source": [
    "Customer_Final.head(10)"
   ]
  },
  {
   "cell_type": "markdown",
   "id": "36d80466-dbec-4edb-886d-e4cd2d84174c",
   "metadata": {},
   "source": [
    "## CHANGING DATATYPES"
   ]
  },
  {
   "cell_type": "code",
   "execution_count": 18,
   "id": "5f1b67f4-edfd-43fc-812e-c0945a110a52",
   "metadata": {},
   "outputs": [],
   "source": [
    "Customer_Final.DOB= pd.to_datetime(Customer_Final.DOB, format = '%d-%m-%Y'  )  "
   ]
  },
  {
   "cell_type": "code",
   "execution_count": 20,
   "id": "72f8cc9d-8ff5-4109-8ef3-86d322e5ce15",
   "metadata": {},
   "outputs": [],
   "source": [
    " Customer_Final.tran_date=Customer_Final.tran_date.str.replace('/','-' )"
   ]
  },
  {
   "cell_type": "code",
   "execution_count": 22,
   "id": "a80b795a-b685-4f1e-8a8a-fffb7785c52a",
   "metadata": {},
   "outputs": [],
   "source": [
    "Customer_Final.tran_date= pd.to_datetime(Customer_Final.tran_date, format = '%d-%m-%Y'  )  "
   ]
  },
  {
   "cell_type": "code",
   "execution_count": 24,
   "id": "43b6d300-a383-40ca-9ab0-819e3f964733",
   "metadata": {},
   "outputs": [
    {
     "data": {
      "text/html": [
       "<div>\n",
       "<style scoped>\n",
       "    .dataframe tbody tr th:only-of-type {\n",
       "        vertical-align: middle;\n",
       "    }\n",
       "\n",
       "    .dataframe tbody tr th {\n",
       "        vertical-align: top;\n",
       "    }\n",
       "\n",
       "    .dataframe thead th {\n",
       "        text-align: right;\n",
       "    }\n",
       "</style>\n",
       "<table border=\"1\" class=\"dataframe\">\n",
       "  <thead>\n",
       "    <tr style=\"text-align: right;\">\n",
       "      <th></th>\n",
       "      <th>tran_date</th>\n",
       "      <th>DOB</th>\n",
       "    </tr>\n",
       "  </thead>\n",
       "  <tbody>\n",
       "    <tr>\n",
       "      <th>0</th>\n",
       "      <td>2014-02-28</td>\n",
       "      <td>1981-09-26</td>\n",
       "    </tr>\n",
       "    <tr>\n",
       "      <th>1</th>\n",
       "      <td>2014-02-27</td>\n",
       "      <td>1973-05-11</td>\n",
       "    </tr>\n",
       "    <tr>\n",
       "      <th>2</th>\n",
       "      <td>2014-02-24</td>\n",
       "      <td>1992-07-27</td>\n",
       "    </tr>\n",
       "    <tr>\n",
       "      <th>3</th>\n",
       "      <td>2014-02-24</td>\n",
       "      <td>1981-06-08</td>\n",
       "    </tr>\n",
       "    <tr>\n",
       "      <th>4</th>\n",
       "      <td>2014-02-23</td>\n",
       "      <td>1992-07-27</td>\n",
       "    </tr>\n",
       "    <tr>\n",
       "      <th>...</th>\n",
       "      <td>...</td>\n",
       "      <td>...</td>\n",
       "    </tr>\n",
       "    <tr>\n",
       "      <th>23048</th>\n",
       "      <td>2011-01-25</td>\n",
       "      <td>1972-02-21</td>\n",
       "    </tr>\n",
       "    <tr>\n",
       "      <th>23049</th>\n",
       "      <td>2011-01-25</td>\n",
       "      <td>1984-04-27</td>\n",
       "    </tr>\n",
       "    <tr>\n",
       "      <th>23050</th>\n",
       "      <td>2011-01-25</td>\n",
       "      <td>1976-06-20</td>\n",
       "    </tr>\n",
       "    <tr>\n",
       "      <th>23051</th>\n",
       "      <td>2011-01-25</td>\n",
       "      <td>1970-05-22</td>\n",
       "    </tr>\n",
       "    <tr>\n",
       "      <th>23052</th>\n",
       "      <td>2011-01-25</td>\n",
       "      <td>1982-01-15</td>\n",
       "    </tr>\n",
       "  </tbody>\n",
       "</table>\n",
       "<p>23053 rows × 2 columns</p>\n",
       "</div>"
      ],
      "text/plain": [
       "       tran_date        DOB\n",
       "0     2014-02-28 1981-09-26\n",
       "1     2014-02-27 1973-05-11\n",
       "2     2014-02-24 1992-07-27\n",
       "3     2014-02-24 1981-06-08\n",
       "4     2014-02-23 1992-07-27\n",
       "...          ...        ...\n",
       "23048 2011-01-25 1972-02-21\n",
       "23049 2011-01-25 1984-04-27\n",
       "23050 2011-01-25 1976-06-20\n",
       "23051 2011-01-25 1970-05-22\n",
       "23052 2011-01-25 1982-01-15\n",
       "\n",
       "[23053 rows x 2 columns]"
      ]
     },
     "execution_count": 24,
     "metadata": {},
     "output_type": "execute_result"
    }
   ],
   "source": [
    "Customer_Final[['tran_date','DOB']]"
   ]
  },
  {
   "cell_type": "code",
   "execution_count": null,
   "id": "8a031a14-f7c1-425b-85e9-d773512e27c2",
   "metadata": {},
   "outputs": [],
   "source": [
    "# The data type of DOB and transaction date was changed to datetime."
   ]
  },
  {
   "cell_type": "code",
   "execution_count": 26,
   "id": "2aca8d61-19bd-4df8-a4d7-8ba5bf061f1e",
   "metadata": {},
   "outputs": [
    {
     "name": "stdout",
     "output_type": "stream",
     "text": [
      "<class 'pandas.core.frame.DataFrame'>\n",
      "RangeIndex: 23053 entries, 0 to 23052\n",
      "Data columns (total 15 columns):\n",
      " #   Column            Non-Null Count  Dtype         \n",
      "---  ------            --------------  -----         \n",
      " 0   transaction_id    23053 non-null  int64         \n",
      " 1   cust_id           23053 non-null  int64         \n",
      " 2   tran_date         23053 non-null  datetime64[ns]\n",
      " 3   prod_subcat_code  23053 non-null  int64         \n",
      " 4   prod_cat_code     23053 non-null  int64         \n",
      " 5   Qty               23053 non-null  int64         \n",
      " 6   Rate              23053 non-null  int64         \n",
      " 7   Tax               23053 non-null  float64       \n",
      " 8   total_amt         23053 non-null  float64       \n",
      " 9   Store_type        23053 non-null  object        \n",
      " 10  DOB               23053 non-null  datetime64[ns]\n",
      " 11  Gender            23044 non-null  object        \n",
      " 12  city_code         23045 non-null  float64       \n",
      " 13  prod_cat          23053 non-null  object        \n",
      " 14  prod_subcat       23053 non-null  object        \n",
      "dtypes: datetime64[ns](2), float64(3), int64(6), object(4)\n",
      "memory usage: 2.6+ MB\n"
     ]
    }
   ],
   "source": [
    "Customer_Final.info()"
   ]
  },
  {
   "cell_type": "markdown",
   "id": "0fbca818-a3d5-4dae-8d74-7916d85222ed",
   "metadata": {},
   "source": [
    "### c) “Five-number summary” for continuous variables (min, Q1, median, Q3 and max)\n"
   ]
  },
  {
   "cell_type": "code",
   "execution_count": null,
   "id": "1b3153cf-6f14-4a56-bc17-c84ea794bb58",
   "metadata": {},
   "outputs": [],
   "source": [
    " Customer_Final.describe().T"
   ]
  },
  {
   "cell_type": "markdown",
   "id": "8c705482-1297-4d93-b9de-648792ab873a",
   "metadata": {},
   "source": [
    "### d) Frequency tables for all the categorical variables"
   ]
  },
  {
   "cell_type": "code",
   "execution_count": null,
   "id": "eec4d8b7-e454-443d-87d1-e070087b0d66",
   "metadata": {},
   "outputs": [],
   "source": [
    " Customer_Final.describe(include = \"object\").T"
   ]
  },
  {
   "cell_type": "code",
   "execution_count": null,
   "id": "39dc636b-1901-42c6-9265-8776008be36f",
   "metadata": {},
   "outputs": [],
   "source": [
    "# Quantity , rate and total amounts have negative values which needs to investigated."
   ]
  },
  {
   "cell_type": "markdown",
   "id": "709853de-88cb-49a8-9001-f22e70116302",
   "metadata": {},
   "source": [
    "# 3) Generate histograms for all continuous variables and frequency bars for categorical variables."
   ]
  },
  {
   "cell_type": "code",
   "execution_count": 28,
   "id": "f5e0e5cb-c170-48eb-bd8b-7a856d295879",
   "metadata": {},
   "outputs": [],
   "source": [
    "Customer_Final_cat= Customer_Final.select_dtypes(include='object')\n",
    "Customer_Final_cont= Customer_Final.select_dtypes(include= ['int64','float'])"
   ]
  },
  {
   "cell_type": "code",
   "execution_count": 30,
   "id": "ddf0223f-f782-462b-85d2-6cc025c01245",
   "metadata": {},
   "outputs": [
    {
     "data": {
      "image/png": "[encoded data removed]",
      "text/plain": [
       "<Figure size 1000x1000 with 1 Axes>"
      ]
     },
     "metadata": {},
     "output_type": "display_data"
    },
    {
     "data": {
      "image/png": "[encoded data removed]",
      "text/plain": [
       "<Figure size 1000x1000 with 1 Axes>"
      ]
     },
     "metadata": {},
     "output_type": "display_data"
    },
    {
     "data": {
      "image/png": "[encoded data removed]",
      "text/plain": [
       "<Figure size 1000x1000 with 1 Axes>"
      ]
     },
     "metadata": {},
     "output_type": "display_data"
    },
    {
     "data": {
      "image/png": "[encoded data removed]",
      "text/plain": [
       "<Figure size 1000x1000 with 1 Axes>"
      ]
     },
     "metadata": {},
     "output_type": "display_data"
    },
    {
     "data": {
      "image/png": "[encoded data removed]",
      "text/plain": [
       "<Figure size 1000x1000 with 1 Axes>"
      ]
     },
     "metadata": {},
     "output_type": "display_data"
    },
    {
     "data": {
      "image/png": "[encoded data removed]",
      "text/plain": [
       "<Figure size 1000x1000 with 1 Axes>"
      ]
     },
     "metadata": {},
     "output_type": "display_data"
    },
    {
     "data": {
      "image/png": "[encoded data removed]",
      "text/plain": [
       "<Figure size 1000x1000 with 1 Axes>"
      ]
     },
     "metadata": {},
     "output_type": "display_data"
    },
    {
     "data": {
      "image/png": "[encoded data removed]",
      "text/plain": [
       "<Figure size 1000x1000 with 1 Axes>"
      ]
     },
     "metadata": {},
     "output_type": "display_data"
    },
    {
     "data": {
      "image/png": "[encoded data removed]",
      "text/plain": [
       "<Figure size 1000x1000 with 1 Axes>"
      ]
     },
     "metadata": {},
     "output_type": "display_data"
    }
   ],
   "source": [
    "for i in Customer_Final_cont:\n",
    "    plt.figure(figsize= (10,10))\n",
    "    sns.histplot(data = Customer_Final_cont , x = Customer_Final_cont[i] )\n",
    "    plt.show()"
   ]
  },
  {
   "cell_type": "markdown",
   "id": "80c847ee-8c47-4542-b009-19d3ed2bc6c6",
   "metadata": {},
   "source": [
    "# -- Checking inconsistencies in the data:"
   ]
  },
  {
   "cell_type": "code",
   "execution_count": 106,
   "id": "bb3407f4-0032-491e-bd0f-0e7ba5191661",
   "metadata": {},
   "outputs": [
    {
     "data": {
      "text/plain": [
       "transaction_id  cust_id  tran_date   prod_subcat_code  prod_cat_code  Qty  Rate   Tax      total_amt  Store_type      DOB         Gender  city_code  prod_cat          prod_subcat\n",
       "44125492691     274748   2011-12-19  3                 2              -5   -767   402.675  -4237.675  e-Shop          1991-06-22  M       1.0        Footwear          Women          2\n",
       "84298959416     268663   2012-04-22  3                 5              -2   -321   67.410   -709.410   TeleShop        1975-05-17  F       8.0        Books             Comics         2\n",
       "98271941861     267939   2011-06-29  10                5              -4   -1238  519.960  -5471.960  Flagship store  1985-03-18  F       1.0        Books             Non-Fiction    2\n",
       "48727689115     270330   2012-10-21  4                 3              -4   -1158  486.360  -5118.360  TeleShop        1981-07-13  M       3.0        Electronics       Mobiles        2\n",
       "42255136382     270202   2012-08-25  12                5              -4   -841   353.220  -3717.220  e-Shop          1985-07-18  F       9.0        Books             Academic       2\n",
       "                                                                                                                                                                                     ..\n",
       "33227618657     273692   2011-03-20  4                 3               4    587   246.540   2594.540  Flagship store  1975-09-10  F       9.0        Electronics       Mobiles        1\n",
       "33219518529     273709   2013-07-12  2                 6               1    324   34.020    358.020   e-Shop          1979-07-15  M       5.0        Home and kitchen  Furnishing     1\n",
       "33215457342     272081   2013-12-29  12                6               4    1079  453.180   4769.180  e-Shop          1978-11-15  F       6.0        Home and kitchen  Tools          1\n",
       "33190905553     267596   2011-03-27  1                 1               3    935   294.525   3099.525  TeleShop        1984-07-19  M       7.0        Clothing          Women          1\n",
       "99987549630     268590   2012-12-11  12                5               5    1268  665.700   7005.700  e-Shop          1986-02-15  F       7.0        Books             Academic       1\n",
       "Name: count, Length: 23023, dtype: int64"
      ]
     },
     "execution_count": 106,
     "metadata": {},
     "output_type": "execute_result"
    }
   ],
   "source": [
    "Customer_Final.value_counts()"
   ]
  },
  {
   "cell_type": "code",
   "execution_count": 32,
   "id": "165584be-4d24-4972-929e-c0dacb751959",
   "metadata": {},
   "outputs": [
    {
     "name": "stdout",
     "output_type": "stream",
     "text": [
      "STORE_TYPE\n",
      "\n",
      "Store_type\n",
      "e-Shop            9311\n",
      "MBR               4661\n",
      "Flagship store    4577\n",
      "TeleShop          4504\n",
      "Name: count, dtype: int64\n",
      "\n",
      "GENDER\n",
      "\n",
      "Gender\n",
      "M    11811\n",
      "F    11233\n",
      "Name: count, dtype: int64\n",
      "\n",
      "PROD_CAT\n",
      "\n",
      "prod_cat\n",
      "Books               6069\n",
      "Electronics         4898\n",
      "Home and kitchen    4129\n",
      "Footwear            2999\n",
      "Clothing            2960\n",
      "Bags                1998\n",
      "Name: count, dtype: int64\n",
      "\n",
      "PROD_SUBCAT\n",
      "\n",
      "prod_subcat\n",
      "Women                  3048\n",
      "Mens                   2912\n",
      "Kids                   1997\n",
      "Tools                  1062\n",
      "Fiction                1043\n",
      "Kitchen                1037\n",
      "Children               1035\n",
      "Mobiles                1031\n",
      "Comics                 1031\n",
      "Bath                   1023\n",
      "Furnishing             1007\n",
      "Non-Fiction            1004\n",
      "DIY                     989\n",
      "Cameras                 985\n",
      "Personal Appliances     972\n",
      "Academic                967\n",
      "Computers               958\n",
      "Audio and video         952\n",
      "Name: count, dtype: int64\n",
      "\n"
     ]
    }
   ],
   "source": [
    " \n",
    "for i in Customer_Final_cat:\n",
    "    print(i.upper())\n",
    "    print(end='\\n')\n",
    "    print(Customer_Final_cat[i].value_counts())\n",
    "    print(end='\\n')"
   ]
  },
  {
   "cell_type": "code",
   "execution_count": null,
   "id": "96e51e2b-1e64-4ae7-9b4b-2dcd4d858683",
   "metadata": {},
   "outputs": [],
   "source": [
    "## In the categorical segment of the data set no inconsistencies were  observed ."
   ]
  },
  {
   "cell_type": "markdown",
   "id": "c2ea03a4-bd20-4286-b38a-928a434cb885",
   "metadata": {},
   "source": [
    "# -- Check outliers "
   ]
  },
  {
   "cell_type": "code",
   "execution_count": 34,
   "id": "b0475aa2-6f28-459c-a286-ab10eb53f59f",
   "metadata": {},
   "outputs": [
    {
     "data": {
      "text/plain": [
       "<Axes: xlabel='Rate'>"
      ]
     },
     "execution_count": 34,
     "metadata": {},
     "output_type": "execute_result"
    },
    {
     "data": {
      "image/png": "[encoded data removed]",
      "text/plain": [
       "<Figure size 640x480 with 1 Axes>"
      ]
     },
     "metadata": {},
     "output_type": "display_data"
    }
   ],
   "source": [
    "sns.boxplot(data = Customer_Final, x= 'Rate' )"
   ]
  },
  {
   "cell_type": "code",
   "execution_count": 36,
   "id": "1a39761f-e767-478b-b6c2-27d9a39b72bb",
   "metadata": {},
   "outputs": [
    {
     "data": {
      "text/plain": [
       "<Axes: xlabel='Qty'>"
      ]
     },
     "execution_count": 36,
     "metadata": {},
     "output_type": "execute_result"
    },
    {
     "data": {
      "image/png": "[encoded data removed]",
      "text/plain": [
       "<Figure size 640x480 with 1 Axes>"
      ]
     },
     "metadata": {},
     "output_type": "display_data"
    }
   ],
   "source": [
    "sns.boxplot(data = Customer_Final, x= 'Qty' )"
   ]
  },
  {
   "cell_type": "markdown",
   "id": "8ffcf21c-9f7e-4287-b96d-77a20561003a",
   "metadata": {},
   "source": [
    "# -- Check missing values :"
   ]
  },
  {
   "cell_type": "code",
   "execution_count": 38,
   "id": "b05ba667-a08a-4678-82da-09c778369dff",
   "metadata": {},
   "outputs": [
    {
     "data": {
      "text/html": [
       "<div>\n",
       "<style scoped>\n",
       "    .dataframe tbody tr th:only-of-type {\n",
       "        vertical-align: middle;\n",
       "    }\n",
       "\n",
       "    .dataframe tbody tr th {\n",
       "        vertical-align: top;\n",
       "    }\n",
       "\n",
       "    .dataframe thead th {\n",
       "        text-align: right;\n",
       "    }\n",
       "</style>\n",
       "<table border=\"1\" class=\"dataframe\">\n",
       "  <thead>\n",
       "    <tr style=\"text-align: right;\">\n",
       "      <th></th>\n",
       "      <th>transaction_id</th>\n",
       "      <th>cust_id</th>\n",
       "      <th>tran_date</th>\n",
       "      <th>prod_subcat_code</th>\n",
       "      <th>prod_cat_code</th>\n",
       "      <th>Qty</th>\n",
       "      <th>Rate</th>\n",
       "      <th>Tax</th>\n",
       "      <th>total_amt</th>\n",
       "      <th>Store_type</th>\n",
       "      <th>DOB</th>\n",
       "      <th>Gender</th>\n",
       "      <th>city_code</th>\n",
       "      <th>prod_cat</th>\n",
       "      <th>prod_subcat</th>\n",
       "    </tr>\n",
       "  </thead>\n",
       "  <tbody>\n",
       "    <tr>\n",
       "      <th>1776</th>\n",
       "      <td>85496594077</td>\n",
       "      <td>267199</td>\n",
       "      <td>2013-11-27</td>\n",
       "      <td>1</td>\n",
       "      <td>1</td>\n",
       "      <td>-4</td>\n",
       "      <td>-366</td>\n",
       "      <td>153.720</td>\n",
       "      <td>-1617.720</td>\n",
       "      <td>e-Shop</td>\n",
       "      <td>1970-02-14</td>\n",
       "      <td>NaN</td>\n",
       "      <td>2.0</td>\n",
       "      <td>Clothing</td>\n",
       "      <td>Women</td>\n",
       "    </tr>\n",
       "    <tr>\n",
       "      <th>1833</th>\n",
       "      <td>85496594077</td>\n",
       "      <td>267199</td>\n",
       "      <td>2013-11-24</td>\n",
       "      <td>1</td>\n",
       "      <td>1</td>\n",
       "      <td>4</td>\n",
       "      <td>366</td>\n",
       "      <td>153.720</td>\n",
       "      <td>1617.720</td>\n",
       "      <td>e-Shop</td>\n",
       "      <td>1970-02-14</td>\n",
       "      <td>NaN</td>\n",
       "      <td>2.0</td>\n",
       "      <td>Clothing</td>\n",
       "      <td>Women</td>\n",
       "    </tr>\n",
       "    <tr>\n",
       "      <th>3711</th>\n",
       "      <td>81458995048</td>\n",
       "      <td>268447</td>\n",
       "      <td>2013-08-26</td>\n",
       "      <td>10</td>\n",
       "      <td>5</td>\n",
       "      <td>1</td>\n",
       "      <td>850</td>\n",
       "      <td>89.250</td>\n",
       "      <td>939.250</td>\n",
       "      <td>e-Shop</td>\n",
       "      <td>1970-07-14</td>\n",
       "      <td>M</td>\n",
       "      <td>NaN</td>\n",
       "      <td>Books</td>\n",
       "      <td>Non-Fiction</td>\n",
       "    </tr>\n",
       "    <tr>\n",
       "      <th>3852</th>\n",
       "      <td>38169306418</td>\n",
       "      <td>268709</td>\n",
       "      <td>2013-08-18</td>\n",
       "      <td>5</td>\n",
       "      <td>3</td>\n",
       "      <td>1</td>\n",
       "      <td>485</td>\n",
       "      <td>50.925</td>\n",
       "      <td>535.925</td>\n",
       "      <td>TeleShop</td>\n",
       "      <td>1970-09-09</td>\n",
       "      <td>F</td>\n",
       "      <td>NaN</td>\n",
       "      <td>Electronics</td>\n",
       "      <td>Computers</td>\n",
       "    </tr>\n",
       "    <tr>\n",
       "      <th>3907</th>\n",
       "      <td>5723163001</td>\n",
       "      <td>267199</td>\n",
       "      <td>2013-08-15</td>\n",
       "      <td>6</td>\n",
       "      <td>5</td>\n",
       "      <td>1</td>\n",
       "      <td>244</td>\n",
       "      <td>25.620</td>\n",
       "      <td>269.620</td>\n",
       "      <td>e-Shop</td>\n",
       "      <td>1970-02-14</td>\n",
       "      <td>NaN</td>\n",
       "      <td>2.0</td>\n",
       "      <td>Books</td>\n",
       "      <td>DIY</td>\n",
       "    </tr>\n",
       "    <tr>\n",
       "      <th>6049</th>\n",
       "      <td>50093131361</td>\n",
       "      <td>268447</td>\n",
       "      <td>2013-05-03</td>\n",
       "      <td>9</td>\n",
       "      <td>3</td>\n",
       "      <td>5</td>\n",
       "      <td>879</td>\n",
       "      <td>461.475</td>\n",
       "      <td>4856.475</td>\n",
       "      <td>TeleShop</td>\n",
       "      <td>1970-07-14</td>\n",
       "      <td>M</td>\n",
       "      <td>NaN</td>\n",
       "      <td>Electronics</td>\n",
       "      <td>Cameras</td>\n",
       "    </tr>\n",
       "    <tr>\n",
       "      <th>6916</th>\n",
       "      <td>55955314599</td>\n",
       "      <td>271626</td>\n",
       "      <td>2013-03-20</td>\n",
       "      <td>11</td>\n",
       "      <td>6</td>\n",
       "      <td>5</td>\n",
       "      <td>1039</td>\n",
       "      <td>545.475</td>\n",
       "      <td>5740.475</td>\n",
       "      <td>TeleShop</td>\n",
       "      <td>1970-06-02</td>\n",
       "      <td>NaN</td>\n",
       "      <td>6.0</td>\n",
       "      <td>Home and kitchen</td>\n",
       "      <td>Bath</td>\n",
       "    </tr>\n",
       "    <tr>\n",
       "      <th>8534</th>\n",
       "      <td>86339422638</td>\n",
       "      <td>268447</td>\n",
       "      <td>2012-12-31</td>\n",
       "      <td>1</td>\n",
       "      <td>4</td>\n",
       "      <td>1</td>\n",
       "      <td>238</td>\n",
       "      <td>24.990</td>\n",
       "      <td>262.990</td>\n",
       "      <td>Flagship store</td>\n",
       "      <td>1970-07-14</td>\n",
       "      <td>M</td>\n",
       "      <td>NaN</td>\n",
       "      <td>Bags</td>\n",
       "      <td>Mens</td>\n",
       "    </tr>\n",
       "    <tr>\n",
       "      <th>8761</th>\n",
       "      <td>51951874983</td>\n",
       "      <td>271626</td>\n",
       "      <td>2012-12-20</td>\n",
       "      <td>10</td>\n",
       "      <td>5</td>\n",
       "      <td>4</td>\n",
       "      <td>845</td>\n",
       "      <td>354.900</td>\n",
       "      <td>3734.900</td>\n",
       "      <td>TeleShop</td>\n",
       "      <td>1970-06-02</td>\n",
       "      <td>NaN</td>\n",
       "      <td>6.0</td>\n",
       "      <td>Books</td>\n",
       "      <td>Non-Fiction</td>\n",
       "    </tr>\n",
       "    <tr>\n",
       "      <th>12376</th>\n",
       "      <td>78371516927</td>\n",
       "      <td>271626</td>\n",
       "      <td>2012-06-29</td>\n",
       "      <td>11</td>\n",
       "      <td>5</td>\n",
       "      <td>3</td>\n",
       "      <td>1022</td>\n",
       "      <td>321.930</td>\n",
       "      <td>3387.930</td>\n",
       "      <td>TeleShop</td>\n",
       "      <td>1970-06-02</td>\n",
       "      <td>NaN</td>\n",
       "      <td>6.0</td>\n",
       "      <td>Books</td>\n",
       "      <td>Children</td>\n",
       "    </tr>\n",
       "    <tr>\n",
       "      <th>12802</th>\n",
       "      <td>42776379061</td>\n",
       "      <td>268447</td>\n",
       "      <td>2012-06-05</td>\n",
       "      <td>2</td>\n",
       "      <td>6</td>\n",
       "      <td>2</td>\n",
       "      <td>296</td>\n",
       "      <td>62.160</td>\n",
       "      <td>654.160</td>\n",
       "      <td>TeleShop</td>\n",
       "      <td>1970-07-14</td>\n",
       "      <td>M</td>\n",
       "      <td>NaN</td>\n",
       "      <td>Home and kitchen</td>\n",
       "      <td>Furnishing</td>\n",
       "    </tr>\n",
       "    <tr>\n",
       "      <th>12810</th>\n",
       "      <td>24340761293</td>\n",
       "      <td>271626</td>\n",
       "      <td>2012-06-05</td>\n",
       "      <td>4</td>\n",
       "      <td>2</td>\n",
       "      <td>3</td>\n",
       "      <td>769</td>\n",
       "      <td>242.235</td>\n",
       "      <td>2549.235</td>\n",
       "      <td>MBR</td>\n",
       "      <td>1970-06-02</td>\n",
       "      <td>NaN</td>\n",
       "      <td>6.0</td>\n",
       "      <td>Footwear</td>\n",
       "      <td>Kids</td>\n",
       "    </tr>\n",
       "    <tr>\n",
       "      <th>14961</th>\n",
       "      <td>54265083960</td>\n",
       "      <td>268447</td>\n",
       "      <td>2012-02-24</td>\n",
       "      <td>5</td>\n",
       "      <td>3</td>\n",
       "      <td>1</td>\n",
       "      <td>564</td>\n",
       "      <td>59.220</td>\n",
       "      <td>623.220</td>\n",
       "      <td>Flagship store</td>\n",
       "      <td>1970-07-14</td>\n",
       "      <td>M</td>\n",
       "      <td>NaN</td>\n",
       "      <td>Electronics</td>\n",
       "      <td>Computers</td>\n",
       "    </tr>\n",
       "    <tr>\n",
       "      <th>15854</th>\n",
       "      <td>56749259881</td>\n",
       "      <td>267199</td>\n",
       "      <td>2012-01-11</td>\n",
       "      <td>7</td>\n",
       "      <td>5</td>\n",
       "      <td>4</td>\n",
       "      <td>1049</td>\n",
       "      <td>440.580</td>\n",
       "      <td>4636.580</td>\n",
       "      <td>MBR</td>\n",
       "      <td>1970-02-14</td>\n",
       "      <td>NaN</td>\n",
       "      <td>2.0</td>\n",
       "      <td>Books</td>\n",
       "      <td>Fiction</td>\n",
       "    </tr>\n",
       "    <tr>\n",
       "      <th>19941</th>\n",
       "      <td>59692455676</td>\n",
       "      <td>268709</td>\n",
       "      <td>2011-06-30</td>\n",
       "      <td>10</td>\n",
       "      <td>3</td>\n",
       "      <td>4</td>\n",
       "      <td>1024</td>\n",
       "      <td>430.080</td>\n",
       "      <td>4526.080</td>\n",
       "      <td>TeleShop</td>\n",
       "      <td>1970-09-09</td>\n",
       "      <td>F</td>\n",
       "      <td>NaN</td>\n",
       "      <td>Electronics</td>\n",
       "      <td>Audio and video</td>\n",
       "    </tr>\n",
       "    <tr>\n",
       "      <th>21041</th>\n",
       "      <td>54423398469</td>\n",
       "      <td>268447</td>\n",
       "      <td>2011-05-03</td>\n",
       "      <td>11</td>\n",
       "      <td>6</td>\n",
       "      <td>3</td>\n",
       "      <td>745</td>\n",
       "      <td>234.675</td>\n",
       "      <td>2469.675</td>\n",
       "      <td>e-Shop</td>\n",
       "      <td>1970-07-14</td>\n",
       "      <td>M</td>\n",
       "      <td>NaN</td>\n",
       "      <td>Home and kitchen</td>\n",
       "      <td>Bath</td>\n",
       "    </tr>\n",
       "    <tr>\n",
       "      <th>22773</th>\n",
       "      <td>29245958438</td>\n",
       "      <td>267199</td>\n",
       "      <td>2011-02-07</td>\n",
       "      <td>3</td>\n",
       "      <td>1</td>\n",
       "      <td>1</td>\n",
       "      <td>278</td>\n",
       "      <td>29.190</td>\n",
       "      <td>307.190</td>\n",
       "      <td>TeleShop</td>\n",
       "      <td>1970-02-14</td>\n",
       "      <td>NaN</td>\n",
       "      <td>2.0</td>\n",
       "      <td>Clothing</td>\n",
       "      <td>Kids</td>\n",
       "    </tr>\n",
       "  </tbody>\n",
       "</table>\n",
       "</div>"
      ],
      "text/plain": [
       "       transaction_id  cust_id  tran_date  prod_subcat_code  prod_cat_code  \\\n",
       "1776      85496594077   267199 2013-11-27                 1              1   \n",
       "1833      85496594077   267199 2013-11-24                 1              1   \n",
       "3711      81458995048   268447 2013-08-26                10              5   \n",
       "3852      38169306418   268709 2013-08-18                 5              3   \n",
       "3907       5723163001   267199 2013-08-15                 6              5   \n",
       "6049      50093131361   268447 2013-05-03                 9              3   \n",
       "6916      55955314599   271626 2013-03-20                11              6   \n",
       "8534      86339422638   268447 2012-12-31                 1              4   \n",
       "8761      51951874983   271626 2012-12-20                10              5   \n",
       "12376     78371516927   271626 2012-06-29                11              5   \n",
       "12802     42776379061   268447 2012-06-05                 2              6   \n",
       "12810     24340761293   271626 2012-06-05                 4              2   \n",
       "14961     54265083960   268447 2012-02-24                 5              3   \n",
       "15854     56749259881   267199 2012-01-11                 7              5   \n",
       "19941     59692455676   268709 2011-06-30                10              3   \n",
       "21041     54423398469   268447 2011-05-03                11              6   \n",
       "22773     29245958438   267199 2011-02-07                 3              1   \n",
       "\n",
       "       Qty  Rate      Tax  total_amt      Store_type        DOB Gender  \\\n",
       "1776    -4  -366  153.720  -1617.720          e-Shop 1970-02-14    NaN   \n",
       "1833     4   366  153.720   1617.720          e-Shop 1970-02-14    NaN   \n",
       "3711     1   850   89.250    939.250          e-Shop 1970-07-14      M   \n",
       "3852     1   485   50.925    535.925        TeleShop 1970-09-09      F   \n",
       "3907     1   244   25.620    269.620          e-Shop 1970-02-14    NaN   \n",
       "6049     5   879  461.475   4856.475        TeleShop 1970-07-14      M   \n",
       "6916     5  1039  545.475   5740.475        TeleShop 1970-06-02    NaN   \n",
       "8534     1   238   24.990    262.990  Flagship store 1970-07-14      M   \n",
       "8761     4   845  354.900   3734.900        TeleShop 1970-06-02    NaN   \n",
       "12376    3  1022  321.930   3387.930        TeleShop 1970-06-02    NaN   \n",
       "12802    2   296   62.160    654.160        TeleShop 1970-07-14      M   \n",
       "12810    3   769  242.235   2549.235             MBR 1970-06-02    NaN   \n",
       "14961    1   564   59.220    623.220  Flagship store 1970-07-14      M   \n",
       "15854    4  1049  440.580   4636.580             MBR 1970-02-14    NaN   \n",
       "19941    4  1024  430.080   4526.080        TeleShop 1970-09-09      F   \n",
       "21041    3   745  234.675   2469.675          e-Shop 1970-07-14      M   \n",
       "22773    1   278   29.190    307.190        TeleShop 1970-02-14    NaN   \n",
       "\n",
       "       city_code          prod_cat      prod_subcat  \n",
       "1776         2.0          Clothing            Women  \n",
       "1833         2.0          Clothing            Women  \n",
       "3711         NaN             Books      Non-Fiction  \n",
       "3852         NaN       Electronics        Computers  \n",
       "3907         2.0             Books              DIY  \n",
       "6049         NaN       Electronics          Cameras  \n",
       "6916         6.0  Home and kitchen             Bath  \n",
       "8534         NaN              Bags             Mens  \n",
       "8761         6.0             Books      Non-Fiction  \n",
       "12376        6.0             Books         Children  \n",
       "12802        NaN  Home and kitchen       Furnishing  \n",
       "12810        6.0          Footwear             Kids  \n",
       "14961        NaN       Electronics        Computers  \n",
       "15854        2.0             Books          Fiction  \n",
       "19941        NaN       Electronics  Audio and video  \n",
       "21041        NaN  Home and kitchen             Bath  \n",
       "22773        2.0          Clothing             Kids  "
      ]
     },
     "execution_count": 38,
     "metadata": {},
     "output_type": "execute_result"
    }
   ],
   "source": [
    "Customer_Final[(Customer_Final.Gender.isnull()) | (Customer_Final.city_code.isnull())]"
   ]
  },
  {
   "cell_type": "code",
   "execution_count": 198,
   "id": "3f8cc6b7-307b-4f16-bed8-f678107f670b",
   "metadata": {},
   "outputs": [
    {
     "data": {
      "text/html": [
       "<div>\n",
       "<style scoped>\n",
       "    .dataframe tbody tr th:only-of-type {\n",
       "        vertical-align: middle;\n",
       "    }\n",
       "\n",
       "    .dataframe tbody tr th {\n",
       "        vertical-align: top;\n",
       "    }\n",
       "\n",
       "    .dataframe thead th {\n",
       "        text-align: right;\n",
       "    }\n",
       "</style>\n",
       "<table border=\"1\" class=\"dataframe\">\n",
       "  <thead>\n",
       "    <tr style=\"text-align: right;\">\n",
       "      <th></th>\n",
       "      <th>transaction_id</th>\n",
       "      <th>cust_id</th>\n",
       "      <th>tran_date</th>\n",
       "      <th>prod_subcat_code</th>\n",
       "      <th>prod_cat_code</th>\n",
       "      <th>Qty</th>\n",
       "      <th>Rate</th>\n",
       "      <th>Tax</th>\n",
       "      <th>total_amt</th>\n",
       "      <th>Store_type</th>\n",
       "      <th>DOB</th>\n",
       "      <th>Gender</th>\n",
       "      <th>city_code</th>\n",
       "      <th>prod_cat</th>\n",
       "      <th>prod_subcat</th>\n",
       "    </tr>\n",
       "  </thead>\n",
       "  <tbody>\n",
       "    <tr>\n",
       "      <th>0</th>\n",
       "      <td>80712190438</td>\n",
       "      <td>270351</td>\n",
       "      <td>2014-02-28</td>\n",
       "      <td>1</td>\n",
       "      <td>1</td>\n",
       "      <td>-5</td>\n",
       "      <td>-772</td>\n",
       "      <td>405.300</td>\n",
       "      <td>-4265.300</td>\n",
       "      <td>e-Shop</td>\n",
       "      <td>1981-09-26</td>\n",
       "      <td>M</td>\n",
       "      <td>5.0</td>\n",
       "      <td>Clothing</td>\n",
       "      <td>Women</td>\n",
       "    </tr>\n",
       "    <tr>\n",
       "      <th>1</th>\n",
       "      <td>29258453508</td>\n",
       "      <td>270384</td>\n",
       "      <td>2014-02-27</td>\n",
       "      <td>5</td>\n",
       "      <td>3</td>\n",
       "      <td>-5</td>\n",
       "      <td>-1497</td>\n",
       "      <td>785.925</td>\n",
       "      <td>-8270.925</td>\n",
       "      <td>e-Shop</td>\n",
       "      <td>1973-05-11</td>\n",
       "      <td>F</td>\n",
       "      <td>8.0</td>\n",
       "      <td>Electronics</td>\n",
       "      <td>Computers</td>\n",
       "    </tr>\n",
       "    <tr>\n",
       "      <th>2</th>\n",
       "      <td>51750724947</td>\n",
       "      <td>273420</td>\n",
       "      <td>2014-02-24</td>\n",
       "      <td>6</td>\n",
       "      <td>5</td>\n",
       "      <td>-2</td>\n",
       "      <td>-791</td>\n",
       "      <td>166.110</td>\n",
       "      <td>-1748.110</td>\n",
       "      <td>TeleShop</td>\n",
       "      <td>1992-07-27</td>\n",
       "      <td>M</td>\n",
       "      <td>8.0</td>\n",
       "      <td>Books</td>\n",
       "      <td>DIY</td>\n",
       "    </tr>\n",
       "    <tr>\n",
       "      <th>3</th>\n",
       "      <td>93274880719</td>\n",
       "      <td>271509</td>\n",
       "      <td>2014-02-24</td>\n",
       "      <td>11</td>\n",
       "      <td>6</td>\n",
       "      <td>-3</td>\n",
       "      <td>-1363</td>\n",
       "      <td>429.345</td>\n",
       "      <td>-4518.345</td>\n",
       "      <td>e-Shop</td>\n",
       "      <td>1981-06-08</td>\n",
       "      <td>M</td>\n",
       "      <td>3.0</td>\n",
       "      <td>Home and kitchen</td>\n",
       "      <td>Bath</td>\n",
       "    </tr>\n",
       "    <tr>\n",
       "      <th>4</th>\n",
       "      <td>51750724947</td>\n",
       "      <td>273420</td>\n",
       "      <td>2014-02-23</td>\n",
       "      <td>6</td>\n",
       "      <td>5</td>\n",
       "      <td>-2</td>\n",
       "      <td>-791</td>\n",
       "      <td>166.110</td>\n",
       "      <td>-1748.110</td>\n",
       "      <td>TeleShop</td>\n",
       "      <td>1992-07-27</td>\n",
       "      <td>M</td>\n",
       "      <td>8.0</td>\n",
       "      <td>Books</td>\n",
       "      <td>DIY</td>\n",
       "    </tr>\n",
       "    <tr>\n",
       "      <th>...</th>\n",
       "      <td>...</td>\n",
       "      <td>...</td>\n",
       "      <td>...</td>\n",
       "      <td>...</td>\n",
       "      <td>...</td>\n",
       "      <td>...</td>\n",
       "      <td>...</td>\n",
       "      <td>...</td>\n",
       "      <td>...</td>\n",
       "      <td>...</td>\n",
       "      <td>...</td>\n",
       "      <td>...</td>\n",
       "      <td>...</td>\n",
       "      <td>...</td>\n",
       "      <td>...</td>\n",
       "    </tr>\n",
       "    <tr>\n",
       "      <th>23048</th>\n",
       "      <td>94340757522</td>\n",
       "      <td>274550</td>\n",
       "      <td>2011-01-25</td>\n",
       "      <td>12</td>\n",
       "      <td>5</td>\n",
       "      <td>1</td>\n",
       "      <td>1264</td>\n",
       "      <td>132.720</td>\n",
       "      <td>1396.720</td>\n",
       "      <td>e-Shop</td>\n",
       "      <td>1972-02-21</td>\n",
       "      <td>M</td>\n",
       "      <td>7.0</td>\n",
       "      <td>Books</td>\n",
       "      <td>Academic</td>\n",
       "    </tr>\n",
       "    <tr>\n",
       "      <th>23049</th>\n",
       "      <td>89780862956</td>\n",
       "      <td>270022</td>\n",
       "      <td>2011-01-25</td>\n",
       "      <td>4</td>\n",
       "      <td>1</td>\n",
       "      <td>1</td>\n",
       "      <td>677</td>\n",
       "      <td>71.085</td>\n",
       "      <td>748.085</td>\n",
       "      <td>e-Shop</td>\n",
       "      <td>1984-04-27</td>\n",
       "      <td>M</td>\n",
       "      <td>9.0</td>\n",
       "      <td>Clothing</td>\n",
       "      <td>Mens</td>\n",
       "    </tr>\n",
       "    <tr>\n",
       "      <th>23050</th>\n",
       "      <td>85115299378</td>\n",
       "      <td>271020</td>\n",
       "      <td>2011-01-25</td>\n",
       "      <td>2</td>\n",
       "      <td>6</td>\n",
       "      <td>4</td>\n",
       "      <td>1052</td>\n",
       "      <td>441.840</td>\n",
       "      <td>4649.840</td>\n",
       "      <td>MBR</td>\n",
       "      <td>1976-06-20</td>\n",
       "      <td>M</td>\n",
       "      <td>8.0</td>\n",
       "      <td>Home and kitchen</td>\n",
       "      <td>Furnishing</td>\n",
       "    </tr>\n",
       "    <tr>\n",
       "      <th>23051</th>\n",
       "      <td>72870271171</td>\n",
       "      <td>270911</td>\n",
       "      <td>2011-01-25</td>\n",
       "      <td>11</td>\n",
       "      <td>5</td>\n",
       "      <td>3</td>\n",
       "      <td>1142</td>\n",
       "      <td>359.730</td>\n",
       "      <td>3785.730</td>\n",
       "      <td>TeleShop</td>\n",
       "      <td>1970-05-22</td>\n",
       "      <td>M</td>\n",
       "      <td>2.0</td>\n",
       "      <td>Books</td>\n",
       "      <td>Children</td>\n",
       "    </tr>\n",
       "    <tr>\n",
       "      <th>23052</th>\n",
       "      <td>77960931771</td>\n",
       "      <td>271961</td>\n",
       "      <td>2011-01-25</td>\n",
       "      <td>11</td>\n",
       "      <td>5</td>\n",
       "      <td>1</td>\n",
       "      <td>447</td>\n",
       "      <td>46.935</td>\n",
       "      <td>493.935</td>\n",
       "      <td>TeleShop</td>\n",
       "      <td>1982-01-15</td>\n",
       "      <td>M</td>\n",
       "      <td>1.0</td>\n",
       "      <td>Books</td>\n",
       "      <td>Children</td>\n",
       "    </tr>\n",
       "  </tbody>\n",
       "</table>\n",
       "<p>23053 rows × 15 columns</p>\n",
       "</div>"
      ],
      "text/plain": [
       "       transaction_id  cust_id  tran_date  prod_subcat_code  prod_cat_code  \\\n",
       "0         80712190438   270351 2014-02-28                 1              1   \n",
       "1         29258453508   270384 2014-02-27                 5              3   \n",
       "2         51750724947   273420 2014-02-24                 6              5   \n",
       "3         93274880719   271509 2014-02-24                11              6   \n",
       "4         51750724947   273420 2014-02-23                 6              5   \n",
       "...               ...      ...        ...               ...            ...   \n",
       "23048     94340757522   274550 2011-01-25                12              5   \n",
       "23049     89780862956   270022 2011-01-25                 4              1   \n",
       "23050     85115299378   271020 2011-01-25                 2              6   \n",
       "23051     72870271171   270911 2011-01-25                11              5   \n",
       "23052     77960931771   271961 2011-01-25                11              5   \n",
       "\n",
       "       Qty  Rate      Tax  total_amt Store_type        DOB Gender  city_code  \\\n",
       "0       -5  -772  405.300  -4265.300     e-Shop 1981-09-26      M        5.0   \n",
       "1       -5 -1497  785.925  -8270.925     e-Shop 1973-05-11      F        8.0   \n",
       "2       -2  -791  166.110  -1748.110   TeleShop 1992-07-27      M        8.0   \n",
       "3       -3 -1363  429.345  -4518.345     e-Shop 1981-06-08      M        3.0   \n",
       "4       -2  -791  166.110  -1748.110   TeleShop 1992-07-27      M        8.0   \n",
       "...    ...   ...      ...        ...        ...        ...    ...        ...   \n",
       "23048    1  1264  132.720   1396.720     e-Shop 1972-02-21      M        7.0   \n",
       "23049    1   677   71.085    748.085     e-Shop 1984-04-27      M        9.0   \n",
       "23050    4  1052  441.840   4649.840        MBR 1976-06-20      M        8.0   \n",
       "23051    3  1142  359.730   3785.730   TeleShop 1970-05-22      M        2.0   \n",
       "23052    1   447   46.935    493.935   TeleShop 1982-01-15      M        1.0   \n",
       "\n",
       "               prod_cat prod_subcat  \n",
       "0              Clothing       Women  \n",
       "1           Electronics   Computers  \n",
       "2                 Books         DIY  \n",
       "3      Home and kitchen        Bath  \n",
       "4                 Books         DIY  \n",
       "...                 ...         ...  \n",
       "23048             Books    Academic  \n",
       "23049          Clothing        Mens  \n",
       "23050  Home and kitchen  Furnishing  \n",
       "23051             Books    Children  \n",
       "23052             Books    Children  \n",
       "\n",
       "[23053 rows x 15 columns]"
      ]
     },
     "execution_count": 198,
     "metadata": {},
     "output_type": "execute_result"
    }
   ],
   "source": [
    "Customer_Final\n"
   ]
  },
  {
   "cell_type": "code",
   "execution_count": 40,
   "id": "6e9ce07b-79ed-4707-95a0-2795a0ac3e7a",
   "metadata": {},
   "outputs": [
    {
     "data": {
      "text/plain": [
       "transaction_id      0\n",
       "cust_id             0\n",
       "tran_date           0\n",
       "prod_subcat_code    0\n",
       "prod_cat_code       0\n",
       "Qty                 0\n",
       "Rate                0\n",
       "Tax                 0\n",
       "total_amt           0\n",
       "Store_type          0\n",
       "DOB                 0\n",
       "Gender              9\n",
       "city_code           8\n",
       "prod_cat            0\n",
       "prod_subcat         0\n",
       "dtype: int64"
      ]
     },
     "execution_count": 40,
     "metadata": {},
     "output_type": "execute_result"
    }
   ],
   "source": [
    "Customer_Final.isna().sum()"
   ]
  },
  {
   "cell_type": "code",
   "execution_count": null,
   "id": "202ef77b-4b85-48aa-a689-93cba1cd658f",
   "metadata": {},
   "outputs": [],
   "source": [
    "# Gender column missing values : 9\n",
    "# City code missing values : 8 \n"
   ]
  },
  {
   "cell_type": "code",
   "execution_count": 42,
   "id": "fd3fd017-4c15-4d94-bc93-a6ac2853fbb2",
   "metadata": {},
   "outputs": [
    {
     "data": {
      "text/plain": [
       "transaction_id      0.000000\n",
       "cust_id             0.000000\n",
       "tran_date           0.000000\n",
       "prod_subcat_code    0.000000\n",
       "prod_cat_code       0.000000\n",
       "Qty                 0.000000\n",
       "Rate                0.000000\n",
       "Tax                 0.000000\n",
       "total_amt           0.000000\n",
       "Store_type          0.000000\n",
       "DOB                 0.000000\n",
       "Gender              0.000390\n",
       "city_code           0.000347\n",
       "prod_cat            0.000000\n",
       "prod_subcat         0.000000\n",
       "dtype: float64"
      ]
     },
     "execution_count": 42,
     "metadata": {},
     "output_type": "execute_result"
    }
   ],
   "source": [
    "Customer_Final.isna().sum()/len(Customer_Final)"
   ]
  },
  {
   "cell_type": "code",
   "execution_count": null,
   "id": "b4fd8772-240d-4e7d-a98e-832702c5b0a5",
   "metadata": {},
   "outputs": [],
   "source": [
    "## Since the missing values in gender and city code is less than 5%  as per industry standards we have decided to drop them. "
   ]
  },
  {
   "cell_type": "code",
   "execution_count": 44,
   "id": "977f85c5-7ed4-4529-bba0-112d2e9ce8cf",
   "metadata": {},
   "outputs": [],
   "source": [
    "Customer_Final.dropna(subset = ['Gender','city_code'], inplace= True)"
   ]
  },
  {
   "cell_type": "code",
   "execution_count": 46,
   "id": "de0fefdb-85e6-45f9-aa71-ed45d676d147",
   "metadata": {},
   "outputs": [
    {
     "data": {
      "text/html": [
       "<div>\n",
       "<style scoped>\n",
       "    .dataframe tbody tr th:only-of-type {\n",
       "        vertical-align: middle;\n",
       "    }\n",
       "\n",
       "    .dataframe tbody tr th {\n",
       "        vertical-align: top;\n",
       "    }\n",
       "\n",
       "    .dataframe thead th {\n",
       "        text-align: right;\n",
       "    }\n",
       "</style>\n",
       "<table border=\"1\" class=\"dataframe\">\n",
       "  <thead>\n",
       "    <tr style=\"text-align: right;\">\n",
       "      <th></th>\n",
       "      <th>transaction_id</th>\n",
       "      <th>cust_id</th>\n",
       "      <th>tran_date</th>\n",
       "      <th>prod_subcat_code</th>\n",
       "      <th>prod_cat_code</th>\n",
       "      <th>Qty</th>\n",
       "      <th>Rate</th>\n",
       "      <th>Tax</th>\n",
       "      <th>total_amt</th>\n",
       "      <th>Store_type</th>\n",
       "      <th>DOB</th>\n",
       "      <th>Gender</th>\n",
       "      <th>city_code</th>\n",
       "      <th>prod_cat</th>\n",
       "      <th>prod_subcat</th>\n",
       "    </tr>\n",
       "  </thead>\n",
       "  <tbody>\n",
       "    <tr>\n",
       "      <th>0</th>\n",
       "      <td>80712190438</td>\n",
       "      <td>270351</td>\n",
       "      <td>2014-02-28</td>\n",
       "      <td>1</td>\n",
       "      <td>1</td>\n",
       "      <td>-5</td>\n",
       "      <td>-772</td>\n",
       "      <td>405.300</td>\n",
       "      <td>-4265.300</td>\n",
       "      <td>e-Shop</td>\n",
       "      <td>1981-09-26</td>\n",
       "      <td>M</td>\n",
       "      <td>5.0</td>\n",
       "      <td>Clothing</td>\n",
       "      <td>Women</td>\n",
       "    </tr>\n",
       "    <tr>\n",
       "      <th>1</th>\n",
       "      <td>29258453508</td>\n",
       "      <td>270384</td>\n",
       "      <td>2014-02-27</td>\n",
       "      <td>5</td>\n",
       "      <td>3</td>\n",
       "      <td>-5</td>\n",
       "      <td>-1497</td>\n",
       "      <td>785.925</td>\n",
       "      <td>-8270.925</td>\n",
       "      <td>e-Shop</td>\n",
       "      <td>1973-05-11</td>\n",
       "      <td>F</td>\n",
       "      <td>8.0</td>\n",
       "      <td>Electronics</td>\n",
       "      <td>Computers</td>\n",
       "    </tr>\n",
       "    <tr>\n",
       "      <th>2</th>\n",
       "      <td>51750724947</td>\n",
       "      <td>273420</td>\n",
       "      <td>2014-02-24</td>\n",
       "      <td>6</td>\n",
       "      <td>5</td>\n",
       "      <td>-2</td>\n",
       "      <td>-791</td>\n",
       "      <td>166.110</td>\n",
       "      <td>-1748.110</td>\n",
       "      <td>TeleShop</td>\n",
       "      <td>1992-07-27</td>\n",
       "      <td>M</td>\n",
       "      <td>8.0</td>\n",
       "      <td>Books</td>\n",
       "      <td>DIY</td>\n",
       "    </tr>\n",
       "    <tr>\n",
       "      <th>3</th>\n",
       "      <td>93274880719</td>\n",
       "      <td>271509</td>\n",
       "      <td>2014-02-24</td>\n",
       "      <td>11</td>\n",
       "      <td>6</td>\n",
       "      <td>-3</td>\n",
       "      <td>-1363</td>\n",
       "      <td>429.345</td>\n",
       "      <td>-4518.345</td>\n",
       "      <td>e-Shop</td>\n",
       "      <td>1981-06-08</td>\n",
       "      <td>M</td>\n",
       "      <td>3.0</td>\n",
       "      <td>Home and kitchen</td>\n",
       "      <td>Bath</td>\n",
       "    </tr>\n",
       "    <tr>\n",
       "      <th>4</th>\n",
       "      <td>51750724947</td>\n",
       "      <td>273420</td>\n",
       "      <td>2014-02-23</td>\n",
       "      <td>6</td>\n",
       "      <td>5</td>\n",
       "      <td>-2</td>\n",
       "      <td>-791</td>\n",
       "      <td>166.110</td>\n",
       "      <td>-1748.110</td>\n",
       "      <td>TeleShop</td>\n",
       "      <td>1992-07-27</td>\n",
       "      <td>M</td>\n",
       "      <td>8.0</td>\n",
       "      <td>Books</td>\n",
       "      <td>DIY</td>\n",
       "    </tr>\n",
       "    <tr>\n",
       "      <th>...</th>\n",
       "      <td>...</td>\n",
       "      <td>...</td>\n",
       "      <td>...</td>\n",
       "      <td>...</td>\n",
       "      <td>...</td>\n",
       "      <td>...</td>\n",
       "      <td>...</td>\n",
       "      <td>...</td>\n",
       "      <td>...</td>\n",
       "      <td>...</td>\n",
       "      <td>...</td>\n",
       "      <td>...</td>\n",
       "      <td>...</td>\n",
       "      <td>...</td>\n",
       "      <td>...</td>\n",
       "    </tr>\n",
       "    <tr>\n",
       "      <th>23048</th>\n",
       "      <td>94340757522</td>\n",
       "      <td>274550</td>\n",
       "      <td>2011-01-25</td>\n",
       "      <td>12</td>\n",
       "      <td>5</td>\n",
       "      <td>1</td>\n",
       "      <td>1264</td>\n",
       "      <td>132.720</td>\n",
       "      <td>1396.720</td>\n",
       "      <td>e-Shop</td>\n",
       "      <td>1972-02-21</td>\n",
       "      <td>M</td>\n",
       "      <td>7.0</td>\n",
       "      <td>Books</td>\n",
       "      <td>Academic</td>\n",
       "    </tr>\n",
       "    <tr>\n",
       "      <th>23049</th>\n",
       "      <td>89780862956</td>\n",
       "      <td>270022</td>\n",
       "      <td>2011-01-25</td>\n",
       "      <td>4</td>\n",
       "      <td>1</td>\n",
       "      <td>1</td>\n",
       "      <td>677</td>\n",
       "      <td>71.085</td>\n",
       "      <td>748.085</td>\n",
       "      <td>e-Shop</td>\n",
       "      <td>1984-04-27</td>\n",
       "      <td>M</td>\n",
       "      <td>9.0</td>\n",
       "      <td>Clothing</td>\n",
       "      <td>Mens</td>\n",
       "    </tr>\n",
       "    <tr>\n",
       "      <th>23050</th>\n",
       "      <td>85115299378</td>\n",
       "      <td>271020</td>\n",
       "      <td>2011-01-25</td>\n",
       "      <td>2</td>\n",
       "      <td>6</td>\n",
       "      <td>4</td>\n",
       "      <td>1052</td>\n",
       "      <td>441.840</td>\n",
       "      <td>4649.840</td>\n",
       "      <td>MBR</td>\n",
       "      <td>1976-06-20</td>\n",
       "      <td>M</td>\n",
       "      <td>8.0</td>\n",
       "      <td>Home and kitchen</td>\n",
       "      <td>Furnishing</td>\n",
       "    </tr>\n",
       "    <tr>\n",
       "      <th>23051</th>\n",
       "      <td>72870271171</td>\n",
       "      <td>270911</td>\n",
       "      <td>2011-01-25</td>\n",
       "      <td>11</td>\n",
       "      <td>5</td>\n",
       "      <td>3</td>\n",
       "      <td>1142</td>\n",
       "      <td>359.730</td>\n",
       "      <td>3785.730</td>\n",
       "      <td>TeleShop</td>\n",
       "      <td>1970-05-22</td>\n",
       "      <td>M</td>\n",
       "      <td>2.0</td>\n",
       "      <td>Books</td>\n",
       "      <td>Children</td>\n",
       "    </tr>\n",
       "    <tr>\n",
       "      <th>23052</th>\n",
       "      <td>77960931771</td>\n",
       "      <td>271961</td>\n",
       "      <td>2011-01-25</td>\n",
       "      <td>11</td>\n",
       "      <td>5</td>\n",
       "      <td>1</td>\n",
       "      <td>447</td>\n",
       "      <td>46.935</td>\n",
       "      <td>493.935</td>\n",
       "      <td>TeleShop</td>\n",
       "      <td>1982-01-15</td>\n",
       "      <td>M</td>\n",
       "      <td>1.0</td>\n",
       "      <td>Books</td>\n",
       "      <td>Children</td>\n",
       "    </tr>\n",
       "  </tbody>\n",
       "</table>\n",
       "<p>23036 rows × 15 columns</p>\n",
       "</div>"
      ],
      "text/plain": [
       "       transaction_id  cust_id  tran_date  prod_subcat_code  prod_cat_code  \\\n",
       "0         80712190438   270351 2014-02-28                 1              1   \n",
       "1         29258453508   270384 2014-02-27                 5              3   \n",
       "2         51750724947   273420 2014-02-24                 6              5   \n",
       "3         93274880719   271509 2014-02-24                11              6   \n",
       "4         51750724947   273420 2014-02-23                 6              5   \n",
       "...               ...      ...        ...               ...            ...   \n",
       "23048     94340757522   274550 2011-01-25                12              5   \n",
       "23049     89780862956   270022 2011-01-25                 4              1   \n",
       "23050     85115299378   271020 2011-01-25                 2              6   \n",
       "23051     72870271171   270911 2011-01-25                11              5   \n",
       "23052     77960931771   271961 2011-01-25                11              5   \n",
       "\n",
       "       Qty  Rate      Tax  total_amt Store_type        DOB Gender  city_code  \\\n",
       "0       -5  -772  405.300  -4265.300     e-Shop 1981-09-26      M        5.0   \n",
       "1       -5 -1497  785.925  -8270.925     e-Shop 1973-05-11      F        8.0   \n",
       "2       -2  -791  166.110  -1748.110   TeleShop 1992-07-27      M        8.0   \n",
       "3       -3 -1363  429.345  -4518.345     e-Shop 1981-06-08      M        3.0   \n",
       "4       -2  -791  166.110  -1748.110   TeleShop 1992-07-27      M        8.0   \n",
       "...    ...   ...      ...        ...        ...        ...    ...        ...   \n",
       "23048    1  1264  132.720   1396.720     e-Shop 1972-02-21      M        7.0   \n",
       "23049    1   677   71.085    748.085     e-Shop 1984-04-27      M        9.0   \n",
       "23050    4  1052  441.840   4649.840        MBR 1976-06-20      M        8.0   \n",
       "23051    3  1142  359.730   3785.730   TeleShop 1970-05-22      M        2.0   \n",
       "23052    1   447   46.935    493.935   TeleShop 1982-01-15      M        1.0   \n",
       "\n",
       "               prod_cat prod_subcat  \n",
       "0              Clothing       Women  \n",
       "1           Electronics   Computers  \n",
       "2                 Books         DIY  \n",
       "3      Home and kitchen        Bath  \n",
       "4                 Books         DIY  \n",
       "...                 ...         ...  \n",
       "23048             Books    Academic  \n",
       "23049          Clothing        Mens  \n",
       "23050  Home and kitchen  Furnishing  \n",
       "23051             Books    Children  \n",
       "23052             Books    Children  \n",
       "\n",
       "[23036 rows x 15 columns]"
      ]
     },
     "execution_count": 46,
     "metadata": {},
     "output_type": "execute_result"
    }
   ],
   "source": [
    "Customer_Final"
   ]
  },
  {
   "cell_type": "markdown",
   "id": "e16f5100-771f-482f-9464-f97d8705ccff",
   "metadata": {},
   "source": [
    "## -- Checking duplicates "
   ]
  },
  {
   "cell_type": "code",
   "execution_count": 48,
   "id": "cce01b0b-480f-4307-9078-e9490800009d",
   "metadata": {},
   "outputs": [
    {
     "data": {
      "text/plain": [
       "13"
      ]
     },
     "execution_count": 48,
     "metadata": {},
     "output_type": "execute_result"
    }
   ],
   "source": [
    "Customer_Final.duplicated().sum()"
   ]
  },
  {
   "cell_type": "code",
   "execution_count": null,
   "id": "202c4371-676c-4ed5-95e8-e5ef8831cdf2",
   "metadata": {},
   "outputs": [],
   "source": [
    "## It has been found that there are 13 duplicate rows in data set so we have decide to drop them."
   ]
  },
  {
   "cell_type": "code",
   "execution_count": 50,
   "id": "592e1998-4c40-48d6-bf6d-b7b53af87be0",
   "metadata": {},
   "outputs": [],
   "source": [
    "Customer_Final.drop_duplicates(inplace = True )"
   ]
  },
  {
   "cell_type": "code",
   "execution_count": 52,
   "id": "ab58c6b2-e951-4bbf-85ee-4f641f917dca",
   "metadata": {},
   "outputs": [
    {
     "data": {
      "text/plain": [
       "0"
      ]
     },
     "execution_count": 52,
     "metadata": {},
     "output_type": "execute_result"
    }
   ],
   "source": [
    "Customer_Final.duplicated().sum()"
   ]
  },
  {
   "cell_type": "code",
   "execution_count": null,
   "id": "135ebb81-1197-434e-8f10-d2ea66f77b58",
   "metadata": {},
   "outputs": [],
   "source": [
    "## The duplicates have been dropped."
   ]
  },
  {
   "cell_type": "code",
   "execution_count": null,
   "id": "49d97397-95cf-4549-8de9-f776e96facb8",
   "metadata": {},
   "outputs": [],
   "source": []
  },
  {
   "cell_type": "markdown",
   "id": "83270243-6016-4325-9e22-e68f5ac75f73",
   "metadata": {},
   "source": [
    "# Univariate analysis"
   ]
  },
  {
   "cell_type": "code",
   "execution_count": null,
   "id": "5b6f53f0-9ea8-412b-aab7-d983bcab0fe9",
   "metadata": {},
   "outputs": [],
   "source": [
    "Customer_Final_num= Customer_Final.select_dtypes('number')"
   ]
  },
  {
   "cell_type": "code",
   "execution_count": null,
   "id": "0b0ebac1-5cee-4f6a-bc73-caa127e75fae",
   "metadata": {},
   "outputs": [],
   "source": [
    "Customer_Final_obj= Customer_Final.select_dtypes('object')"
   ]
  },
  {
   "cell_type": "code",
   "execution_count": null,
   "id": "b0369e02-dbad-4cb3-bc8d-b1974ba3088b",
   "metadata": {},
   "outputs": [],
   "source": [
    "for i in Customer_Final_num :\n",
    "    Customer_Final[i].plot(kind='box')\n",
    "    plt.show()\n",
    "    "
   ]
  },
  {
   "cell_type": "code",
   "execution_count": null,
   "id": "81edaac4-adf2-4bdb-97a8-b6aec93cb67d",
   "metadata": {},
   "outputs": [],
   "source": [
    "## It was found that : Qty(-), Rate(-), Tax(+),Total amount (+/-) had outliers."
   ]
  },
  {
   "cell_type": "code",
   "execution_count": null,
   "id": "dcbd5eb7-e693-451c-886d-5c8655fb3e59",
   "metadata": {},
   "outputs": [],
   "source": [
    "BIVARIATE ANALYSIS"
   ]
  },
  {
   "cell_type": "code",
   "execution_count": null,
   "id": "60593399-5c76-4fcc-9b85-a570febc0ed8",
   "metadata": {},
   "outputs": [],
   "source": [
    "plt.figure(figsize =(10,12))\n",
    "sns.heatmap(data= Customer_Final_cont.corr(), annot= True,vmin=-1, vmax=1, cmap= 'Blues')"
   ]
  },
  {
   "cell_type": "markdown",
   "id": "aecd8951-4601-44cf-a5ae-c9ac4a1c5fc2",
   "metadata": {},
   "source": [
    "## treating outliers IN THE FOLLOWING COLUMNS (Qty(-), Rate(-), Tax(+),Total amount (+/-))"
   ]
  },
  {
   "cell_type": "code",
   "execution_count": 55,
   "id": "8eefe30b-8313-4d79-aa54-ee2f7de5c5a2",
   "metadata": {},
   "outputs": [],
   "source": [
    "for i in Customer_Final:\n",
    "    if Customer_Final[i].dtypes in ('int64','float','int'):\n",
    "        Q1= Customer_Final[i].quantile(0.25)\n",
    "        Q3 = Customer_Final[i].quantile(0.75)\n",
    "        IQR =Q3-Q1\n",
    "        lowerl= Q1 -(1.5*IQR)\n",
    "        upperl= Q3 +(1.5*IQR)\n",
    "        Customer_Final[i]= Customer_Final[i].clip (lower=lowerl,upper =upperl)\n",
    "        "
   ]
  },
  {
   "cell_type": "code",
   "execution_count": 57,
   "id": "210f889e-8ab7-4ef8-a675-db1d8e5822d3",
   "metadata": {},
   "outputs": [
    {
     "data": {
      "image/png": "[encoded data removed]",
      "text/plain": [
       "<Figure size 640x480 with 1 Axes>"
      ]
     },
     "metadata": {},
     "output_type": "display_data"
    },
    {
     "data": {
      "image/png": "[encoded data removed]",
      "text/plain": [
       "<Figure size 640x480 with 1 Axes>"
      ]
     },
     "metadata": {},
     "output_type": "display_data"
    },
    {
     "data": {
      "image/png": "[encoded data removed]",
      "text/plain": [
       "<Figure size 640x480 with 1 Axes>"
      ]
     },
     "metadata": {},
     "output_type": "display_data"
    },
    {
     "data": {
      "image/png": "[encoded data removed]",
      "text/plain": [
       "<Figure size 640x480 with 1 Axes>"
      ]
     },
     "metadata": {},
     "output_type": "display_data"
    },
    {
     "data": {
      "image/png": "[encoded data removed]",
      "text/plain": [
       "<Figure size 640x480 with 1 Axes>"
      ]
     },
     "metadata": {},
     "output_type": "display_data"
    },
    {
     "data": {
      "image/png": "[encoded data removed]",
      "text/plain": [
       "<Figure size 640x480 with 1 Axes>"
      ]
     },
     "metadata": {},
     "output_type": "display_data"
    },
    {
     "data": {
      "image/png": "[encoded data removed]",
      "text/plain": [
       "<Figure size 640x480 with 1 Axes>"
      ]
     },
     "metadata": {},
     "output_type": "display_data"
    },
    {
     "data": {
      "image/png": "[encoded data removed]",
      "text/plain": [
       "<Figure size 640x480 with 1 Axes>"
      ]
     },
     "metadata": {},
     "output_type": "display_data"
    },
    {
     "data": {
      "image/png": "[encoded data removed]",
      "text/plain": [
       "<Figure size 640x480 with 1 Axes>"
      ]
     },
     "metadata": {},
     "output_type": "display_data"
    }
   ],
   "source": [
    "for i in Customer_Final:\n",
    "    if Customer_Final[i].dtypes in ('int64','float','int'):\n",
    "        Customer_Final[i].plot(kind='box')\n",
    "        plt.show()"
   ]
  },
  {
   "cell_type": "code",
   "execution_count": null,
   "id": "a03e5655-b134-4e9c-ab66-9f28af63c803",
   "metadata": {},
   "outputs": [],
   "source": [
    "## The outliers have been treated in all the listed columns \n"
   ]
  },
  {
   "cell_type": "markdown",
   "id": "6834be09-487e-42b4-899c-b24bb31bbdea",
   "metadata": {},
   "source": [
    "# 4) "
   ]
  },
  {
   "cell_type": "markdown",
   "id": "72b31f10-bd21-47e4-a410-951508734523",
   "metadata": {},
   "source": [
    "#### a) Time period of available transaction data "
   ]
  },
  {
   "cell_type": "code",
   "execution_count": null,
   "id": "ddf31283-5105-400d-81a1-cc321286e5bd",
   "metadata": {},
   "outputs": [],
   "source": [
    "Max_d= Customer_Final.tran_date.max()\n",
    "Min_d= Customer_Final.tran_date.min()"
   ]
  },
  {
   "cell_type": "code",
   "execution_count": null,
   "id": "b48fbebb-1285-49e6-ad25-99917481e34e",
   "metadata": {},
   "outputs": [],
   "source": [
    " Max_d-Min_d"
   ]
  },
  {
   "cell_type": "markdown",
   "id": "37404c5b-35a8-4189-bf18-0375e41283c4",
   "metadata": {},
   "source": [
    " #### b. Count of transactions where the total amount of transaction was negative"
   ]
  },
  {
   "cell_type": "code",
   "execution_count": null,
   "id": "70fa374b-73e8-4eaa-9e2d-0f513ed4397d",
   "metadata": {},
   "outputs": [],
   "source": [
    "Customer_Final[Customer_Final.total_amt <0].transaction_id.count()"
   ]
  },
  {
   "cell_type": "markdown",
   "id": "140a1353-7bd3-4193-8e97-15beeb6075d1",
   "metadata": {},
   "source": [
    "# 5. Analyze which product categories are more popular among females vs male customers.\n"
   ]
  },
  {
   "cell_type": "code",
   "execution_count": null,
   "id": "9351bd75-5c75-45b4-aff7-0034f66fc8c7",
   "metadata": {},
   "outputs": [],
   "source": [
    "Customer_Final[['Gender','prod_cat', ]].groupby(by = ['Gender','prod_cat'] ).agg({'prod_cat':'count'}) "
   ]
  },
  {
   "cell_type": "code",
   "execution_count": null,
   "id": "a774b155-eedd-4f7d-beea-ce28dfa3aa58",
   "metadata": {},
   "outputs": [],
   "source": [
    "# Among females the category most bought is Electronics and in case of males is Books "
   ]
  },
  {
   "cell_type": "markdown",
   "id": "7d96e235-a67b-40bb-859e-d4fd6bb29c99",
   "metadata": {},
   "source": [
    "# 6. Which City code has the maximum customers and what was the percentage of customers from that city"
   ]
  },
  {
   "cell_type": "code",
   "execution_count": null,
   "id": "26b9885d-f877-42b4-bd6a-b0d7a29137e4",
   "metadata": {},
   "outputs": [],
   "source": [
    "Max_cust = Customer_Final[['city_code','cust_id']].groupby(by='city_code').agg({'cust_id': 'count'}).reset_index()\n"
   ]
  },
  {
   "cell_type": "code",
   "execution_count": null,
   "id": "8247a301-3479-45a1-b4b6-ef6dba3b9a07",
   "metadata": {},
   "outputs": [],
   "source": [
    "Max_cust['Percentage'] = (Max_cust.cust_id/Max_cust.cust_id.sum())*100"
   ]
  },
  {
   "cell_type": "code",
   "execution_count": null,
   "id": "575fed76-6e67-4d2e-9677-456c524562de",
   "metadata": {},
   "outputs": [],
   "source": [
    "Max_cust.sort_values(by='Percentage', ascending = False)"
   ]
  },
  {
   "cell_type": "code",
   "execution_count": null,
   "id": "1c226560-4552-4a33-8e51-32bc74be3a51",
   "metadata": {},
   "outputs": [],
   "source": [
    "# The city code 4.0 has the max numbers of customers of about 2422 , which forms 10.519% of the entire customer base ."
   ]
  },
  {
   "cell_type": "markdown",
   "id": "3d3e9f82-5fee-4f91-8818-c0f369158940",
   "metadata": {},
   "source": [
    "# 7. Which store type sells the maximum products by value and by quantity"
   ]
  },
  {
   "cell_type": "code",
   "execution_count": null,
   "id": "8fd58c5a-882d-49ec-97a1-5aeddf2580b0",
   "metadata": {},
   "outputs": [],
   "source": [
    "Customer_Final.head(2)"
   ]
  },
  {
   "cell_type": "code",
   "execution_count": null,
   "id": "aa35ea89-42b9-45bc-929b-a41e1e39f716",
   "metadata": {},
   "outputs": [],
   "source": [
    "Customer_Final[['Store_type','total_amt','Qty']].groupby(by='Store_type').sum().sort_values(by=['total_amt','Qty'], ascending =False)\n"
   ]
  },
  {
   "cell_type": "code",
   "execution_count": null,
   "id": "272a3745-836a-46ac-85ce-b2c4fd070e47",
   "metadata": {},
   "outputs": [],
   "source": [
    "## The store_type : e-shop sells the maximum products by value and by quantity"
   ]
  },
  {
   "cell_type": "markdown",
   "id": "270ccd67-ae27-477c-8271-0769b0cf5ff6",
   "metadata": {},
   "source": [
    "# 8. What was the total amount earned from the \"Electronics\" and \"Clothing\" categories from  Flagship Stores?\n"
   ]
  },
  {
   "cell_type": "code",
   "execution_count": 218,
   "id": "707d8dfd-74d9-4f4d-a522-45b9517ab7ee",
   "metadata": {},
   "outputs": [
    {
     "data": {
      "text/plain": [
       "3512549.1375"
      ]
     },
     "execution_count": 218,
     "metadata": {},
     "output_type": "execute_result"
    }
   ],
   "source": [
    "Customer_Final[(Customer_Final.Store_type == 'Flagship store') & ((Customer_Final.prod_cat == 'Electronics') | (Customer_Final.prod_cat == 'Clothing'))].iloc[:,8].sum()"
   ]
  },
  {
   "cell_type": "code",
   "execution_count": 128,
   "id": "c828a30e-a8f9-45f5-8752-8704943136b7",
   "metadata": {},
   "outputs": [
    {
     "data": {
      "text/plain": [
       "3512565.16"
      ]
     },
     "execution_count": 128,
     "metadata": {},
     "output_type": "execute_result"
    }
   ],
   "source": [
    "Customer_Final[['Store_type','prod_cat','total_amt']].groupby (by =['Store_type','prod_cat']).sum().reset_index().iloc[2:4,2].sum()"
   ]
  },
  {
   "cell_type": "code",
   "execution_count": 216,
   "id": "10199439-f92b-4f2d-98d6-11984710573c",
   "metadata": {},
   "outputs": [
    {
     "name": "stdout",
     "output_type": "stream",
     "text": [
      "The total amount earned from the \"Electronics\" and \"Clothing\" categories from Flagship Stores is 3512549.1375\n"
     ]
    }
   ],
   "source": [
    "print('The total amount earned from the \"Electronics\" and \"Clothing\" categories from Flagship Stores is',Customer_Final[['Store_type','prod_cat','total_amt']].groupby (by =['Store_type','prod_cat']).sum().reset_index().iloc[2:4,2].sum())"
   ]
  },
  {
   "cell_type": "markdown",
   "id": "7423bd4f-b9ea-4491-944f-e46e1cf2b881",
   "metadata": {},
   "source": [
    "# 9. What was the total amount earned from \"Male\" customers under the \"Electronics\" category"
   ]
  },
  {
   "cell_type": "code",
   "execution_count": null,
   "id": "35010e27-fb2f-457f-a542-be646c27759c",
   "metadata": {},
   "outputs": [],
   "source": [
    "Customer_Final.pivot_table(index=['Gender','prod_cat'], values= 'total_amt',aggfunc='sum').loc['M'].loc['Electronics'].sum()"
   ]
  },
  {
   "cell_type": "code",
   "execution_count": 220,
   "id": "e521325a-8129-40bf-a551-b6b1dea7f970",
   "metadata": {},
   "outputs": [
    {
     "name": "stdout",
     "output_type": "stream",
     "text": [
      "The total amount earned from \"Male\" customers under the \"Electronics\" category is 5826561.6825\n"
     ]
    }
   ],
   "source": [
    "print('The total amount earned from \"Male\" customers under the \"Electronics\" category is',Customer_Final.pivot_table(index=['Gender','prod_cat'], values= 'total_amt',aggfunc='sum').loc['M'].loc['Electronics'].sum())"
   ]
  },
  {
   "cell_type": "markdown",
   "id": "78b219e1-fe23-4111-b98e-b35dbbe1c89a",
   "metadata": {},
   "source": [
    "# 10. How many customers have more than 10 unique transactions, after removing all transactions which have any negative amounts?"
   ]
  },
  {
   "cell_type": "code",
   "execution_count": null,
   "id": "42bd8c3f-11a9-4670-95b3-49fdc0b22772",
   "metadata": {},
   "outputs": [],
   "source": [
    "Customer_Final[(Customer_Final.Qty >0) &(Customer_Final.Rate>0)\t&(Customer_Final.Tax>0)\t&(Customer_Final.total_amt>0)].pivot_table(index='transaction_id',  aggfunc='size').sum()"
   ]
  },
  {
   "cell_type": "code",
   "execution_count": null,
   "id": "d08f2c2b-da61-40f0-a628-0dffa16ab19e",
   "metadata": {},
   "outputs": [],
   "source": [
    "#Hence a particular transaction id was not repeated in any row ."
   ]
  },
  {
   "cell_type": "code",
   "execution_count": 132,
   "id": "16d75aa5-10c6-41aa-adf8-172d918464f3",
   "metadata": {},
   "outputs": [],
   "source": [
    "Cust= Customer_Final[(Customer_Final.Qty >0) &(Customer_Final.Rate>0)\t&(Customer_Final.Tax>0)\t&(Customer_Final.total_amt>0)].pivot_table(index='cust_id',values ='transaction_id',aggfunc='count').rename(columns={'transaction_id':'transaction_count'})"
   ]
  },
  {
   "cell_type": "code",
   "execution_count": 134,
   "id": "b36008d9-6799-400e-991f-95fe328e6ada",
   "metadata": {},
   "outputs": [
    {
     "data": {
      "text/plain": [
       "6"
      ]
     },
     "execution_count": 134,
     "metadata": {},
     "output_type": "execute_result"
    }
   ],
   "source": [
    "len(Cust[Cust.transaction_count>10])"
   ]
  },
  {
   "cell_type": "code",
   "execution_count": 136,
   "id": "44546d82-3f02-49dd-9eb4-bb8e99894b1c",
   "metadata": {},
   "outputs": [
    {
     "name": "stdout",
     "output_type": "stream",
     "text": [
      "The number of customers have more than 10 unique transactions, after removing all transactions which have any negative amounts is 6\n"
     ]
    }
   ],
   "source": [
    "print('The number of customers have more than 10 unique transactions, after removing all transactions which have any negative amounts is',len(Cust[Cust.transaction_count>10]))"
   ]
  },
  {
   "cell_type": "markdown",
   "id": "d8bf315f-f79d-4a24-b3fa-a09c5d82995c",
   "metadata": {},
   "source": [
    "# 11.. For all customers aged between 25 - 35, find out:\n"
   ]
  },
  {
   "cell_type": "code",
   "execution_count": 59,
   "id": "e8c82b3d-df9d-46b3-b191-17baf217f3d5",
   "metadata": {},
   "outputs": [],
   "source": [
    "Customer_Final['Age']= pd.Timestamp.today().year - Customer_Final.DOB.dt.year"
   ]
  },
  {
   "cell_type": "code",
   "execution_count": 61,
   "id": "15e91e6f-2bd4-489c-86a7-cb0de5271761",
   "metadata": {},
   "outputs": [
    {
     "data": {
      "text/html": [
       "<div>\n",
       "<style scoped>\n",
       "    .dataframe tbody tr th:only-of-type {\n",
       "        vertical-align: middle;\n",
       "    }\n",
       "\n",
       "    .dataframe tbody tr th {\n",
       "        vertical-align: top;\n",
       "    }\n",
       "\n",
       "    .dataframe thead th {\n",
       "        text-align: right;\n",
       "    }\n",
       "</style>\n",
       "<table border=\"1\" class=\"dataframe\">\n",
       "  <thead>\n",
       "    <tr style=\"text-align: right;\">\n",
       "      <th></th>\n",
       "      <th>transaction_id</th>\n",
       "      <th>cust_id</th>\n",
       "      <th>tran_date</th>\n",
       "      <th>prod_subcat_code</th>\n",
       "      <th>prod_cat_code</th>\n",
       "      <th>Qty</th>\n",
       "      <th>Rate</th>\n",
       "      <th>Tax</th>\n",
       "      <th>total_amt</th>\n",
       "      <th>Store_type</th>\n",
       "      <th>DOB</th>\n",
       "      <th>Gender</th>\n",
       "      <th>city_code</th>\n",
       "      <th>prod_cat</th>\n",
       "      <th>prod_subcat</th>\n",
       "      <th>Age</th>\n",
       "    </tr>\n",
       "  </thead>\n",
       "  <tbody>\n",
       "    <tr>\n",
       "      <th>0</th>\n",
       "      <td>80712190438</td>\n",
       "      <td>270351</td>\n",
       "      <td>2014-02-28</td>\n",
       "      <td>1</td>\n",
       "      <td>1</td>\n",
       "      <td>-3.5</td>\n",
       "      <td>-772</td>\n",
       "      <td>405.300</td>\n",
       "      <td>-3449.2575</td>\n",
       "      <td>e-Shop</td>\n",
       "      <td>1981-09-26</td>\n",
       "      <td>M</td>\n",
       "      <td>5.0</td>\n",
       "      <td>Clothing</td>\n",
       "      <td>Women</td>\n",
       "      <td>43</td>\n",
       "    </tr>\n",
       "    <tr>\n",
       "      <th>1</th>\n",
       "      <td>29258453508</td>\n",
       "      <td>270384</td>\n",
       "      <td>2014-02-27</td>\n",
       "      <td>5</td>\n",
       "      <td>3</td>\n",
       "      <td>-3.5</td>\n",
       "      <td>-885</td>\n",
       "      <td>767.130</td>\n",
       "      <td>-3449.2575</td>\n",
       "      <td>e-Shop</td>\n",
       "      <td>1973-05-11</td>\n",
       "      <td>F</td>\n",
       "      <td>8.0</td>\n",
       "      <td>Electronics</td>\n",
       "      <td>Computers</td>\n",
       "      <td>51</td>\n",
       "    </tr>\n",
       "    <tr>\n",
       "      <th>2</th>\n",
       "      <td>51750724947</td>\n",
       "      <td>273420</td>\n",
       "      <td>2014-02-24</td>\n",
       "      <td>6</td>\n",
       "      <td>5</td>\n",
       "      <td>-2.0</td>\n",
       "      <td>-791</td>\n",
       "      <td>166.110</td>\n",
       "      <td>-1748.1100</td>\n",
       "      <td>TeleShop</td>\n",
       "      <td>1992-07-27</td>\n",
       "      <td>M</td>\n",
       "      <td>8.0</td>\n",
       "      <td>Books</td>\n",
       "      <td>DIY</td>\n",
       "      <td>32</td>\n",
       "    </tr>\n",
       "    <tr>\n",
       "      <th>3</th>\n",
       "      <td>93274880719</td>\n",
       "      <td>271509</td>\n",
       "      <td>2014-02-24</td>\n",
       "      <td>11</td>\n",
       "      <td>6</td>\n",
       "      <td>-3.0</td>\n",
       "      <td>-885</td>\n",
       "      <td>429.345</td>\n",
       "      <td>-3449.2575</td>\n",
       "      <td>e-Shop</td>\n",
       "      <td>1981-06-08</td>\n",
       "      <td>M</td>\n",
       "      <td>3.0</td>\n",
       "      <td>Home and kitchen</td>\n",
       "      <td>Bath</td>\n",
       "      <td>43</td>\n",
       "    </tr>\n",
       "    <tr>\n",
       "      <th>4</th>\n",
       "      <td>51750724947</td>\n",
       "      <td>273420</td>\n",
       "      <td>2014-02-23</td>\n",
       "      <td>6</td>\n",
       "      <td>5</td>\n",
       "      <td>-2.0</td>\n",
       "      <td>-791</td>\n",
       "      <td>166.110</td>\n",
       "      <td>-1748.1100</td>\n",
       "      <td>TeleShop</td>\n",
       "      <td>1992-07-27</td>\n",
       "      <td>M</td>\n",
       "      <td>8.0</td>\n",
       "      <td>Books</td>\n",
       "      <td>DIY</td>\n",
       "      <td>32</td>\n",
       "    </tr>\n",
       "    <tr>\n",
       "      <th>...</th>\n",
       "      <td>...</td>\n",
       "      <td>...</td>\n",
       "      <td>...</td>\n",
       "      <td>...</td>\n",
       "      <td>...</td>\n",
       "      <td>...</td>\n",
       "      <td>...</td>\n",
       "      <td>...</td>\n",
       "      <td>...</td>\n",
       "      <td>...</td>\n",
       "      <td>...</td>\n",
       "      <td>...</td>\n",
       "      <td>...</td>\n",
       "      <td>...</td>\n",
       "      <td>...</td>\n",
       "      <td>...</td>\n",
       "    </tr>\n",
       "    <tr>\n",
       "      <th>23048</th>\n",
       "      <td>94340757522</td>\n",
       "      <td>274550</td>\n",
       "      <td>2011-01-25</td>\n",
       "      <td>12</td>\n",
       "      <td>5</td>\n",
       "      <td>1.0</td>\n",
       "      <td>1264</td>\n",
       "      <td>132.720</td>\n",
       "      <td>1396.7200</td>\n",
       "      <td>e-Shop</td>\n",
       "      <td>1972-02-21</td>\n",
       "      <td>M</td>\n",
       "      <td>7.0</td>\n",
       "      <td>Books</td>\n",
       "      <td>Academic</td>\n",
       "      <td>52</td>\n",
       "    </tr>\n",
       "    <tr>\n",
       "      <th>23049</th>\n",
       "      <td>89780862956</td>\n",
       "      <td>270022</td>\n",
       "      <td>2011-01-25</td>\n",
       "      <td>4</td>\n",
       "      <td>1</td>\n",
       "      <td>1.0</td>\n",
       "      <td>677</td>\n",
       "      <td>71.085</td>\n",
       "      <td>748.0850</td>\n",
       "      <td>e-Shop</td>\n",
       "      <td>1984-04-27</td>\n",
       "      <td>M</td>\n",
       "      <td>9.0</td>\n",
       "      <td>Clothing</td>\n",
       "      <td>Mens</td>\n",
       "      <td>40</td>\n",
       "    </tr>\n",
       "    <tr>\n",
       "      <th>23050</th>\n",
       "      <td>85115299378</td>\n",
       "      <td>271020</td>\n",
       "      <td>2011-01-25</td>\n",
       "      <td>2</td>\n",
       "      <td>6</td>\n",
       "      <td>4.0</td>\n",
       "      <td>1052</td>\n",
       "      <td>441.840</td>\n",
       "      <td>4649.8400</td>\n",
       "      <td>MBR</td>\n",
       "      <td>1976-06-20</td>\n",
       "      <td>M</td>\n",
       "      <td>8.0</td>\n",
       "      <td>Home and kitchen</td>\n",
       "      <td>Furnishing</td>\n",
       "      <td>48</td>\n",
       "    </tr>\n",
       "    <tr>\n",
       "      <th>23051</th>\n",
       "      <td>72870271171</td>\n",
       "      <td>270911</td>\n",
       "      <td>2011-01-25</td>\n",
       "      <td>11</td>\n",
       "      <td>5</td>\n",
       "      <td>3.0</td>\n",
       "      <td>1142</td>\n",
       "      <td>359.730</td>\n",
       "      <td>3785.7300</td>\n",
       "      <td>TeleShop</td>\n",
       "      <td>1970-05-22</td>\n",
       "      <td>M</td>\n",
       "      <td>2.0</td>\n",
       "      <td>Books</td>\n",
       "      <td>Children</td>\n",
       "      <td>54</td>\n",
       "    </tr>\n",
       "    <tr>\n",
       "      <th>23052</th>\n",
       "      <td>77960931771</td>\n",
       "      <td>271961</td>\n",
       "      <td>2011-01-25</td>\n",
       "      <td>11</td>\n",
       "      <td>5</td>\n",
       "      <td>1.0</td>\n",
       "      <td>447</td>\n",
       "      <td>46.935</td>\n",
       "      <td>493.9350</td>\n",
       "      <td>TeleShop</td>\n",
       "      <td>1982-01-15</td>\n",
       "      <td>M</td>\n",
       "      <td>1.0</td>\n",
       "      <td>Books</td>\n",
       "      <td>Children</td>\n",
       "      <td>42</td>\n",
       "    </tr>\n",
       "  </tbody>\n",
       "</table>\n",
       "<p>23023 rows × 16 columns</p>\n",
       "</div>"
      ],
      "text/plain": [
       "       transaction_id  cust_id  tran_date  prod_subcat_code  prod_cat_code  \\\n",
       "0         80712190438   270351 2014-02-28                 1              1   \n",
       "1         29258453508   270384 2014-02-27                 5              3   \n",
       "2         51750724947   273420 2014-02-24                 6              5   \n",
       "3         93274880719   271509 2014-02-24                11              6   \n",
       "4         51750724947   273420 2014-02-23                 6              5   \n",
       "...               ...      ...        ...               ...            ...   \n",
       "23048     94340757522   274550 2011-01-25                12              5   \n",
       "23049     89780862956   270022 2011-01-25                 4              1   \n",
       "23050     85115299378   271020 2011-01-25                 2              6   \n",
       "23051     72870271171   270911 2011-01-25                11              5   \n",
       "23052     77960931771   271961 2011-01-25                11              5   \n",
       "\n",
       "       Qty  Rate      Tax  total_amt Store_type        DOB Gender  city_code  \\\n",
       "0     -3.5  -772  405.300 -3449.2575     e-Shop 1981-09-26      M        5.0   \n",
       "1     -3.5  -885  767.130 -3449.2575     e-Shop 1973-05-11      F        8.0   \n",
       "2     -2.0  -791  166.110 -1748.1100   TeleShop 1992-07-27      M        8.0   \n",
       "3     -3.0  -885  429.345 -3449.2575     e-Shop 1981-06-08      M        3.0   \n",
       "4     -2.0  -791  166.110 -1748.1100   TeleShop 1992-07-27      M        8.0   \n",
       "...    ...   ...      ...        ...        ...        ...    ...        ...   \n",
       "23048  1.0  1264  132.720  1396.7200     e-Shop 1972-02-21      M        7.0   \n",
       "23049  1.0   677   71.085   748.0850     e-Shop 1984-04-27      M        9.0   \n",
       "23050  4.0  1052  441.840  4649.8400        MBR 1976-06-20      M        8.0   \n",
       "23051  3.0  1142  359.730  3785.7300   TeleShop 1970-05-22      M        2.0   \n",
       "23052  1.0   447   46.935   493.9350   TeleShop 1982-01-15      M        1.0   \n",
       "\n",
       "               prod_cat prod_subcat  Age  \n",
       "0              Clothing       Women   43  \n",
       "1           Electronics   Computers   51  \n",
       "2                 Books         DIY   32  \n",
       "3      Home and kitchen        Bath   43  \n",
       "4                 Books         DIY   32  \n",
       "...                 ...         ...  ...  \n",
       "23048             Books    Academic   52  \n",
       "23049          Clothing        Mens   40  \n",
       "23050  Home and kitchen  Furnishing   48  \n",
       "23051             Books    Children   54  \n",
       "23052             Books    Children   42  \n",
       "\n",
       "[23023 rows x 16 columns]"
      ]
     },
     "execution_count": 61,
     "metadata": {},
     "output_type": "execute_result"
    }
   ],
   "source": [
    "Customer_Final"
   ]
  },
  {
   "cell_type": "code",
   "execution_count": 63,
   "id": "207c2ed9-6abc-4c96-ae44-18c3edbb5473",
   "metadata": {},
   "outputs": [],
   "source": [
    "Cust_limit = Customer_Final[(Customer_Final.Age >=25 ) & (Customer_Final.Age <=35 )]"
   ]
  },
  {
   "cell_type": "markdown",
   "id": "a089911b-ff17-418c-9486-8db612e37716",
   "metadata": {},
   "source": [
    "## a. What was the total amount spent for “Electronics” and “Books” product categories "
   ]
  },
  {
   "cell_type": "code",
   "execution_count": 65,
   "id": "3556bea8-efe9-4e35-a92e-fd32b66cffb5",
   "metadata": {},
   "outputs": [
    {
     "data": {
      "text/plain": [
       "4042036.96"
      ]
     },
     "execution_count": 65,
     "metadata": {},
     "output_type": "execute_result"
    }
   ],
   "source": [
    "Cust_limit[['prod_cat','total_amt']].groupby(by='prod_cat').sum().loc[['Electronics','Books'],'total_amt'].sum()"
   ]
  },
  {
   "cell_type": "code",
   "execution_count": 232,
   "id": "cca3b45c-3fbd-476e-8616-73d44519cd6d",
   "metadata": {},
   "outputs": [
    {
     "name": "stdout",
     "output_type": "stream",
     "text": [
      "The total amount spent for “Electronics” and “Books” product categories is 4042036.96\n"
     ]
    }
   ],
   "source": [
    "print ('The total amount spent for “Electronics” and “Books” product categories is',Cust_limit[['prod_cat','total_amt']].groupby(by='prod_cat').sum().loc[['Electronics','Books'],'total_amt'].sum())"
   ]
  },
  {
   "cell_type": "markdown",
   "id": "bc7f273f-2dc4-4aab-a77b-1831a1d3be20",
   "metadata": {},
   "source": [
    "## b. What was the total amount spent by these customers between 1st Jan, 2014 to 1st Mar, 2014"
   ]
  },
  {
   "cell_type": "code",
   "execution_count": 234,
   "id": "5a2b08da-9233-48e7-88b7-de06e880354c",
   "metadata": {},
   "outputs": [
    {
     "data": {
      "text/plain": [
       "442201.11"
      ]
     },
     "execution_count": 234,
     "metadata": {},
     "output_type": "execute_result"
    }
   ],
   "source": [
    "Cust_limit[(Cust_limit.tran_date >= pd.Timestamp(year= 2014,month=1, day= 1 )) & (Cust_limit.tran_date <= pd.Timestamp(year= 2014,month=3, day= 1 ))].loc[:,'total_amt'].sum()"
   ]
  },
  {
   "cell_type": "code",
   "execution_count": 67,
   "id": "3449a458-aa5a-417e-a6f8-e48f295b6458",
   "metadata": {},
   "outputs": [
    {
     "name": "stdout",
     "output_type": "stream",
     "text": [
      "The total amount spent by these customers between 1st Jan, 2014 to 1st Mar, 2014 is : 442201.11\n"
     ]
    }
   ],
   "source": [
    "print('The total amount spent by these customers between 1st Jan, 2014 to 1st Mar, 2014 is :',Cust_limit[(Cust_limit.tran_date >= pd.Timestamp(year= 2014,month=1, day= 1 )) & (Cust_limit.tran_date <= pd.Timestamp(year= 2014,month=3, day= 1 ))].loc[:,'total_amt'].sum())"
   ]
  },
  {
   "cell_type": "code",
   "execution_count": null,
   "id": "5a6ce1b8-b69b-49ba-9368-1b497004b525",
   "metadata": {},
   "outputs": [],
   "source": []
  },
  {
   "cell_type": "code",
   "execution_count": null,
   "id": "8b199194-ee15-44c7-842e-64ab66658b6c",
   "metadata": {},
   "outputs": [],
   "source": []
  },
  {
   "cell_type": "code",
   "execution_count": null,
   "id": "b58b78c6-07a4-4ab8-b2e5-e8106c72f547",
   "metadata": {},
   "outputs": [],
   "source": []
  }
 ],
 "metadata": {
  "kernelspec": {
   "display_name": "Python 3 (ipykernel)",
   "language": "python",
   "name": "python3"
  },
  "language_info": {
   "codemirror_mode": {
    "name": "ipython",
    "version": 3
   },
   "file_extension": ".py",
   "mimetype": "text/x-python",
   "name": "python",
   "nbconvert_exporter": "python",
   "pygments_lexer": "ipython3",
   "version": "3.12.4"
  }
 },
 "nbformat": 4,
 "nbformat_minor": 5
}
